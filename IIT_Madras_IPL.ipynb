{
  "nbformat": 4,
  "nbformat_minor": 0,
  "metadata": {
    "colab": {
      "name": "IIT Madras IPL.ipynb",
      "provenance": [],
      "collapsed_sections": [],
      "toc_visible": true,
      "mount_file_id": "1AwJ6XuIIgQYh5MXAobGWGAO1AYHDqeqP",
      "authorship_tag": "ABX9TyO78z6P/3+1ERbDBSJ307UQ",
      "include_colab_link": true
    },
    "kernelspec": {
      "name": "python3",
      "display_name": "Python 3"
    },
    "language_info": {
      "name": "python"
    }
  },
  "cells": [
    {
      "cell_type": "markdown",
      "metadata": {
        "id": "view-in-github",
        "colab_type": "text"
      },
      "source": [
        "<a href=\"https://colab.research.google.com/github/VJsai45/IIT-Madras-IPL-Score-Predcition-Hackathon/blob/main/IIT_Madras_IPL.ipynb\" target=\"_parent\"><img src=\"https://colab.research.google.com/assets/colab-badge.svg\" alt=\"Open In Colab\"/></a>"
      ]
    },
    {
      "cell_type": "markdown",
      "metadata": {
        "id": "rzaDpK7WEBUQ"
      },
      "source": [
        "#IPL Linear Regression\n"
      ]
    },
    {
      "cell_type": "code",
      "metadata": {
        "id": "XRxqsyOxJmqF"
      },
      "source": [
        "import pandas as pd\n",
        "import numpy as np\n",
        "import seaborn as sns\n",
        "import glob\n",
        "import os\n",
        "import matplotlib.pyplot as plt\n"
      ],
      "execution_count": null,
      "outputs": []
    },
    {
      "cell_type": "code",
      "metadata": {
        "id": "GrV92l-sJtTG",
        "colab": {
          "base_uri": "https://localhost:8080/",
          "height": 430
        },
        "outputId": "6bf07df4-92d4-43b5-b304-c090456cc523"
      },
      "source": [
        "# Read all ipl matches data from csv\n",
        "allDataDF = pd.read_csv('/content/drive/MyDrive/Deep Learning Data/IIT Madras IPL Data/all_matches_new.csv');\n",
        "allDataDF.head()"
      ],
      "execution_count": null,
      "outputs": [
        {
          "output_type": "stream",
          "text": [
            "/usr/local/lib/python3.7/dist-packages/IPython/core/interactiveshell.py:2718: DtypeWarning: Columns (1) have mixed types.Specify dtype option on import or set low_memory=False.\n",
            "  interactivity=interactivity, compiler=compiler, result=result)\n"
          ],
          "name": "stderr"
        },
        {
          "output_type": "execute_result",
          "data": {
            "text/html": [
              "<div>\n",
              "<style scoped>\n",
              "    .dataframe tbody tr th:only-of-type {\n",
              "        vertical-align: middle;\n",
              "    }\n",
              "\n",
              "    .dataframe tbody tr th {\n",
              "        vertical-align: top;\n",
              "    }\n",
              "\n",
              "    .dataframe thead th {\n",
              "        text-align: right;\n",
              "    }\n",
              "</style>\n",
              "<table border=\"1\" class=\"dataframe\">\n",
              "  <thead>\n",
              "    <tr style=\"text-align: right;\">\n",
              "      <th></th>\n",
              "      <th>match_id</th>\n",
              "      <th>season</th>\n",
              "      <th>start_date</th>\n",
              "      <th>venue</th>\n",
              "      <th>innings</th>\n",
              "      <th>ball</th>\n",
              "      <th>batting_team</th>\n",
              "      <th>bowling_team</th>\n",
              "      <th>striker</th>\n",
              "      <th>non_striker</th>\n",
              "      <th>bowler</th>\n",
              "      <th>runs_off_bat</th>\n",
              "      <th>extras</th>\n",
              "      <th>wides</th>\n",
              "      <th>noballs</th>\n",
              "      <th>byes</th>\n",
              "      <th>legbyes</th>\n",
              "      <th>penalty</th>\n",
              "      <th>wicket_type</th>\n",
              "      <th>player_dismissed</th>\n",
              "      <th>other_wicket_type</th>\n",
              "      <th>other_player_dismissed</th>\n",
              "    </tr>\n",
              "  </thead>\n",
              "  <tbody>\n",
              "    <tr>\n",
              "      <th>0</th>\n",
              "      <td>335982</td>\n",
              "      <td>2007/08</td>\n",
              "      <td>2008-04-18</td>\n",
              "      <td>M Chinnaswamy Stadium</td>\n",
              "      <td>1</td>\n",
              "      <td>0.1</td>\n",
              "      <td>Kolkata Knight Riders</td>\n",
              "      <td>Royal Challengers Bangalore</td>\n",
              "      <td>SC Ganguly</td>\n",
              "      <td>BB McCullum</td>\n",
              "      <td>P Kumar</td>\n",
              "      <td>0</td>\n",
              "      <td>1</td>\n",
              "      <td>NaN</td>\n",
              "      <td>NaN</td>\n",
              "      <td>NaN</td>\n",
              "      <td>1.0</td>\n",
              "      <td>NaN</td>\n",
              "      <td>NaN</td>\n",
              "      <td>NaN</td>\n",
              "      <td>NaN</td>\n",
              "      <td>NaN</td>\n",
              "    </tr>\n",
              "    <tr>\n",
              "      <th>1</th>\n",
              "      <td>335982</td>\n",
              "      <td>2007/08</td>\n",
              "      <td>2008-04-18</td>\n",
              "      <td>M Chinnaswamy Stadium</td>\n",
              "      <td>1</td>\n",
              "      <td>0.2</td>\n",
              "      <td>Kolkata Knight Riders</td>\n",
              "      <td>Royal Challengers Bangalore</td>\n",
              "      <td>BB McCullum</td>\n",
              "      <td>SC Ganguly</td>\n",
              "      <td>P Kumar</td>\n",
              "      <td>0</td>\n",
              "      <td>0</td>\n",
              "      <td>NaN</td>\n",
              "      <td>NaN</td>\n",
              "      <td>NaN</td>\n",
              "      <td>NaN</td>\n",
              "      <td>NaN</td>\n",
              "      <td>NaN</td>\n",
              "      <td>NaN</td>\n",
              "      <td>NaN</td>\n",
              "      <td>NaN</td>\n",
              "    </tr>\n",
              "    <tr>\n",
              "      <th>2</th>\n",
              "      <td>335982</td>\n",
              "      <td>2007/08</td>\n",
              "      <td>2008-04-18</td>\n",
              "      <td>M Chinnaswamy Stadium</td>\n",
              "      <td>1</td>\n",
              "      <td>0.3</td>\n",
              "      <td>Kolkata Knight Riders</td>\n",
              "      <td>Royal Challengers Bangalore</td>\n",
              "      <td>BB McCullum</td>\n",
              "      <td>SC Ganguly</td>\n",
              "      <td>P Kumar</td>\n",
              "      <td>0</td>\n",
              "      <td>1</td>\n",
              "      <td>1.0</td>\n",
              "      <td>NaN</td>\n",
              "      <td>NaN</td>\n",
              "      <td>NaN</td>\n",
              "      <td>NaN</td>\n",
              "      <td>NaN</td>\n",
              "      <td>NaN</td>\n",
              "      <td>NaN</td>\n",
              "      <td>NaN</td>\n",
              "    </tr>\n",
              "    <tr>\n",
              "      <th>3</th>\n",
              "      <td>335982</td>\n",
              "      <td>2007/08</td>\n",
              "      <td>2008-04-18</td>\n",
              "      <td>M Chinnaswamy Stadium</td>\n",
              "      <td>1</td>\n",
              "      <td>0.4</td>\n",
              "      <td>Kolkata Knight Riders</td>\n",
              "      <td>Royal Challengers Bangalore</td>\n",
              "      <td>BB McCullum</td>\n",
              "      <td>SC Ganguly</td>\n",
              "      <td>P Kumar</td>\n",
              "      <td>0</td>\n",
              "      <td>0</td>\n",
              "      <td>NaN</td>\n",
              "      <td>NaN</td>\n",
              "      <td>NaN</td>\n",
              "      <td>NaN</td>\n",
              "      <td>NaN</td>\n",
              "      <td>NaN</td>\n",
              "      <td>NaN</td>\n",
              "      <td>NaN</td>\n",
              "      <td>NaN</td>\n",
              "    </tr>\n",
              "    <tr>\n",
              "      <th>4</th>\n",
              "      <td>335982</td>\n",
              "      <td>2007/08</td>\n",
              "      <td>2008-04-18</td>\n",
              "      <td>M Chinnaswamy Stadium</td>\n",
              "      <td>1</td>\n",
              "      <td>0.5</td>\n",
              "      <td>Kolkata Knight Riders</td>\n",
              "      <td>Royal Challengers Bangalore</td>\n",
              "      <td>BB McCullum</td>\n",
              "      <td>SC Ganguly</td>\n",
              "      <td>P Kumar</td>\n",
              "      <td>0</td>\n",
              "      <td>0</td>\n",
              "      <td>NaN</td>\n",
              "      <td>NaN</td>\n",
              "      <td>NaN</td>\n",
              "      <td>NaN</td>\n",
              "      <td>NaN</td>\n",
              "      <td>NaN</td>\n",
              "      <td>NaN</td>\n",
              "      <td>NaN</td>\n",
              "      <td>NaN</td>\n",
              "    </tr>\n",
              "  </tbody>\n",
              "</table>\n",
              "</div>"
            ],
            "text/plain": [
              "   match_id   season  ... other_wicket_type other_player_dismissed\n",
              "0    335982  2007/08  ...               NaN                    NaN\n",
              "1    335982  2007/08  ...               NaN                    NaN\n",
              "2    335982  2007/08  ...               NaN                    NaN\n",
              "3    335982  2007/08  ...               NaN                    NaN\n",
              "4    335982  2007/08  ...               NaN                    NaN\n",
              "\n",
              "[5 rows x 22 columns]"
            ]
          },
          "metadata": {
            "tags": []
          },
          "execution_count": 420
        }
      ]
    },
    {
      "cell_type": "code",
      "metadata": {
        "id": "N3vj1e0OlVO7"
      },
      "source": [
        "# convert the match dates from string to pandas datetime format\n",
        "allDataDF.start_date = pd.to_datetime(allDataDF.start_date)"
      ],
      "execution_count": null,
      "outputs": []
    },
    {
      "cell_type": "code",
      "metadata": {
        "id": "u2ya3gRvqtz-"
      },
      "source": [
        "# To view all rows data\n",
        "with pd.option_context('display.max_rows', None, 'display.max_columns', None):  # more options can be specified also\n",
        "  allDataDF[(allDataDF.start_date > '2015-01-01') & (allDataDF.match_id ==  829733) & (allDataDF.ball < 6.0) & (allDataDF.innings == 1)]"
      ],
      "execution_count": null,
      "outputs": []
    },
    {
      "cell_type": "code",
      "metadata": {
        "id": "HiQxgyt_xjFj"
      },
      "source": [
        "# Filter last 3 years' data for first six overs and group by matchid and innings to get the runs scored also.\n",
        "sixOversData = allDataDF[(allDataDF.start_date > '2021-01-01')  & (allDataDF.ball < 6.0) & (allDataDF.innings < 3)].groupby(by=['match_id','innings'],as_index=False).agg(\n",
        "    {\n",
        "        'venue': 'first',\n",
        "        'batting_team':'first',\n",
        "        'bowling_team':'first',\n",
        "        'striker':lambda x : ','.join(x.unique()),\n",
        "        'bowler':lambda x : ','.join(x.unique()),\n",
        "        'runs_off_bat':'sum',\n",
        "        'extras':'sum'\n",
        "    }\n",
        ")\n",
        "sixOversData['runs'] = sixOversData.runs_off_bat + sixOversData.extras\n",
        "sixOversData.drop('runs_off_bat',axis=1,inplace=True)\n",
        "sixOversData.drop('extras',axis=1,inplace=True)\n",
        "sixOversData.drop('match_id',axis=1,inplace=True)\n"
      ],
      "execution_count": null,
      "outputs": []
    },
    {
      "cell_type": "code",
      "metadata": {
        "id": "OwObgsofE8QH"
      },
      "source": [
        "# stadium dictionary to map and update spelling mistakes to the correct names\n",
        "stadiumDictionary = {'Arun Jaitley Stadium': 'Arun Jaitley Stadium',\n",
        " 'Brabourne Stadium': 'Brabourne Stadium',\n",
        " 'Dr. Y.S. Rajasekhara Reddy ACA-VDCA Cricket Stadium': 'Dr. Y.S. Rajasekhara Reddy ACA-VDCA Cricket Stadium',\n",
        " 'Dubai International Cricket Stadium': 'Dubai International Cricket Stadium',\n",
        " 'Eden Gardens': 'Eden Gardens',\n",
        " 'Feroz Shah Kotla': 'Arun Jaitley Stadium',\n",
        " 'Green Park': 'Green Park',\n",
        " 'Narendra Modi Stadium, Ahmedabad':'Narendra Modi Stadium',\n",
        " 'Narendra Modi Stadium':'Narendra Modi Stadium',\n",
        " 'Holkar Cricket Stadium': 'Holkar Cricket Stadium',\n",
        " 'JSCA International Stadium Complex': 'JSCA International Stadium Complex',\n",
        " 'M Chinnaswamy Stadium': 'M Chinnaswamy Stadium',\n",
        " 'M.Chinnaswamy Stadium': 'M Chinnaswamy Stadium',\n",
        " 'MA Chidambaram Stadium': 'MA Chidambaram Stadium',\n",
        " 'MA Chidambaram Stadium, Chepauk': 'MA Chidambaram Stadium',\n",
        " 'MA Chidambaram Stadium, Chepauk, Chennai': 'MA Chidambaram Stadium',\n",
        " 'Maharashtra Cricket Association Stadium': 'Maharashtra Cricket Association Stadium',\n",
        " 'Punjab Cricket Association IS Bindra Stadium': 'Punjab Cricket Association IS Bindra Stadium',\n",
        " 'Punjab Cricket Association IS Bindra Stadium, Mohali': 'Punjab Cricket Association IS Bindra Stadium',\n",
        " 'Punjab Cricket Association Stadium, Mohali': 'Punjab Cricket Association IS Bindra Stadium',\n",
        " 'Rajiv Gandhi International Stadium': 'Rajiv Gandhi International Stadium',\n",
        " 'Rajiv Gandhi International Stadium, Uppal': 'Rajiv Gandhi International Stadium',\n",
        " 'Sardar Patel Stadium, Motera': 'Narendra Modi Stadium, Ahmedabad',\n",
        " 'Saurashtra Cricket Association Stadium': 'Saurashtra Cricket Association Stadium',\n",
        " 'Sawai Mansingh Stadium': 'Sawai Mansingh Stadium',\n",
        " 'Shaheed Veer Narayan Singh International Stadium': 'Shaheed Veer Narayan Singh International Stadium',\n",
        " 'Sharjah Cricket Stadium': 'Sharjah Cricket Stadium',\n",
        " 'Sheikh Zayed Stadium': 'Sheikh Zayed Stadium',\n",
        " 'Wankhede Stadium': 'Wankhede Stadium',\n",
        " 'Wankhede Stadium, Mumbai': 'Wankhede Stadium'}"
      ],
      "execution_count": null,
      "outputs": []
    },
    {
      "cell_type": "code",
      "metadata": {
        "id": "ck1UT0hVFKD0"
      },
      "source": [
        "# To map the stadium names\n",
        "sixOversData.venue = sixOversData.venue.apply(lambda x : stadiumDictionary.get(x))"
      ],
      "execution_count": null,
      "outputs": []
    },
    {
      "cell_type": "code",
      "metadata": {
        "id": "DopGxk4lYFE5",
        "colab": {
          "base_uri": "https://localhost:8080/",
          "height": 297
        },
        "outputId": "d8bf4940-9892-4356-b135-60c597520021"
      },
      "source": [
        "# To check the distribution of runs\n",
        "X = sixOversData.iloc[:,:-1]\n",
        "y = sixOversData.iloc[:,6]\n",
        "X,y\n",
        "sns.histplot(data=sixOversData,x='runs',bins=100,kde=True)\n"
      ],
      "execution_count": null,
      "outputs": [
        {
          "output_type": "execute_result",
          "data": {
            "text/plain": [
              "<matplotlib.axes._subplots.AxesSubplot at 0x7fa265710490>"
            ]
          },
          "metadata": {
            "tags": []
          },
          "execution_count": 426
        },
        {
          "output_type": "display_data",
          "data": {
            "image/png": "[encoded data removed]",
            "text/plain": [
              "<Figure size 432x288 with 1 Axes>"
            ]
          },
          "metadata": {
            "tags": [],
            "needs_background": "light"
          }
        }
      ]
    },
    {
      "cell_type": "code",
      "metadata": {
        "id": "3sv2b5p3n_-n"
      },
      "source": [
        "# Calculate IQR\n",
        "def getIQRMean(inputData):\n",
        "  return np.mean(inputData[inputData.between(inputData.quantile(.1), inputData.quantile(0.9), inclusive=True)])"
      ],
      "execution_count": null,
      "outputs": []
    },
    {
      "cell_type": "code",
      "metadata": {
        "id": "UjaAEsQvbcSR",
        "colab": {
          "base_uri": "https://localhost:8080/"
        },
        "outputId": "23f854bf-60ae-47df-c79c-2ac7f2bbb269"
      },
      "source": [
        "# Dataframe for batsmen strike rates\n",
        "playerStrikeRates = allDataDF[(allDataDF.start_date > '2021-01-01')  & (allDataDF.ball < 6.0) & (allDataDF.innings < 3)].groupby(['striker'],as_index=False).agg(\n",
        "    {\n",
        "        'runs_off_bat':'mean'\n",
        "    }\n",
        ")\n",
        "playerStrikeRates[playerStrikeRates[\"striker\"].str.endswith(\"Ali\")]\n",
        "batsmenAveragesDict = playerStrikeRates.set_index('striker').T.to_dict('item')\n",
        "batsmenAveragesDict['runs_off_bat']"
      ],
      "execution_count": null,
      "outputs": [
        {
          "output_type": "stream",
          "text": [
            "/usr/local/lib/python3.7/dist-packages/pandas/core/frame.py:1490: FutureWarning: Using short name for 'orient' is deprecated. Only the options: ('dict', list, 'series', 'split', 'records', 'index') will be used in a future version. Use one of the above to silence this warning.\n",
            "  FutureWarning,\n"
          ],
          "name": "stderr"
        },
        {
          "output_type": "execute_result",
          "data": {
            "text/plain": [
              "{'AD Russell': 3.5,\n",
              " 'AM Rahane': 0.8888888888888888,\n",
              " 'BA Stokes': 0.0,\n",
              " 'CA Lynn': 0.9285714285714286,\n",
              " 'CH Gayle': 0.96875,\n",
              " 'D Padikkal': 1.375,\n",
              " 'DA Miller': 0.6153846153846154,\n",
              " 'DA Warner': 1.1746031746031746,\n",
              " 'DJ Hooda': 0.7142857142857143,\n",
              " 'EJG Morgan': 1.2777777777777777,\n",
              " 'F du Plessis': 1.4444444444444444,\n",
              " 'GJ Maxwell': 1.7894736842105263,\n",
              " 'Ishan Kishan': 0.3333333333333333,\n",
              " 'JC Buttler': 1.24,\n",
              " 'JM Bairstow': 1.710144927536232,\n",
              " 'KL Rahul': 0.9782608695652174,\n",
              " 'KS Williamson': 1.2222222222222223,\n",
              " 'M Shahrukh Khan': 0.0,\n",
              " 'M Vohra': 1.05,\n",
              " 'MA Agarwal': 1.2469135802469136,\n",
              " 'MK Pandey': 0.896551724137931,\n",
              " 'MM Ali': 0.9166666666666666,\n",
              " 'MP Stoinis': 0.0,\n",
              " 'N Pooran': 0.0,\n",
              " 'N Rana': 1.0465116279069768,\n",
              " 'PP Shaw': 1.7058823529411764,\n",
              " 'Q de Kock': 0.7931034482758621,\n",
              " 'RA Tripathi': 1.1428571428571428,\n",
              " 'RD Gaikwad': 0.8666666666666667,\n",
              " 'RG Sharma': 1.2705882352941176,\n",
              " 'RM Patidar': 0.8181818181818182,\n",
              " 'RR Pant': 1.3636363636363635,\n",
              " 'S Dhawan': 1.2027027027027026,\n",
              " 'S Dube': 0.75,\n",
              " 'SA Yadav': 1.3170731707317074,\n",
              " 'SK Raina': 1.0769230769230769,\n",
              " 'SP Narine': 0.5,\n",
              " 'SPD Smith': 0.9,\n",
              " 'SV Samson': 1.2173913043478262,\n",
              " 'Shahbaz Ahmed': 1.5555555555555556,\n",
              " 'Shubman Gill': 1.1538461538461537,\n",
              " 'V Kohli': 1.2777777777777777,\n",
              " 'Virat Singh': 0.0,\n",
              " 'WP Saha': 0.5333333333333333,\n",
              " 'Washington Sundar': 0.6538461538461539,\n",
              " 'YBK Jaiswal': 1.2941176470588236}"
            ]
          },
          "metadata": {
            "tags": []
          },
          "execution_count": 428
        }
      ]
    },
    {
      "cell_type": "code",
      "metadata": {
        "id": "0vkO3xTL_xTQ",
        "colab": {
          "base_uri": "https://localhost:8080/"
        },
        "outputId": "af842e77-011a-492b-b240-54ae1ef87493"
      },
      "source": [
        "# Dataframe for bowler economy rates\n",
        "bowlerAverage = allDataDF[(allDataDF.start_date > '2021-01-01') & (allDataDF.ball < 6.0) & (allDataDF.innings < 3) ].groupby(['bowler'],as_index=False).agg(\n",
        "    {\n",
        "        'runs_off_bat':'mean',\n",
        "        'extras':'mean'\n",
        "    }\n",
        ")\n",
        "bowlerAverage['economy'] = (bowlerAverage.runs_off_bat + bowlerAverage.extras)*6\n",
        "bowlerAverage.drop('runs_off_bat',axis=1,inplace=True);\n",
        "bowlerAverage.drop('extras',axis=1,inplace=True);\n",
        "bowlerAveragesDict = bowlerAverage.set_index('bowler').T.to_dict('item')\n",
        "bowlerAveragesDict['economy']"
      ],
      "execution_count": null,
      "outputs": [
        {
          "output_type": "stream",
          "text": [
            "/usr/local/lib/python3.7/dist-packages/pandas/core/frame.py:1490: FutureWarning: Using short name for 'orient' is deprecated. Only the options: ('dict', list, 'series', 'split', 'records', 'index') will be used in a future version. Use one of the above to silence this warning.\n",
            "  FutureWarning,\n"
          ],
          "name": "stderr"
        },
        {
          "output_type": "execute_result",
          "data": {
            "text/plain": [
              "{'A Mishra': 10.0,\n",
              " 'AF Milne': 16.285714285714285,\n",
              " 'AR Patel': 11.0,\n",
              " 'Abhishek Sharma': 6.947368421052632,\n",
              " 'Arshdeep Singh': 7.199999999999999,\n",
              " 'Avesh Khan': 5.76,\n",
              " 'B Kumar': 5.781818181818181,\n",
              " 'C Sakariya': 6.352941176470589,\n",
              " 'CH Morris': 7.2631578947368425,\n",
              " 'CR Woakes': 5.428571428571429,\n",
              " 'CV Varun': 7.783783783783782,\n",
              " 'DJ Hooda': 2.5,\n",
              " 'DL Chahar': 7.636363636363637,\n",
              " 'FA Allen': 9.428571428571429,\n",
              " 'Harbhajan Singh': 6.181818181818182,\n",
              " 'J Suchith': 3.0,\n",
              " 'J Yadav': 8.5,\n",
              " 'JA Richardson': 9.84,\n",
              " 'JD Unadkat': 6.625,\n",
              " 'JJ Bumrah': 5.441860465116279,\n",
              " 'JO Holder': 7.384615384615383,\n",
              " 'Jalaj S Saxena': 10.0,\n",
              " 'K Rabada': 7.6,\n",
              " 'KA Jamieson': 8.035714285714286,\n",
              " 'KH Pandya': 8.32258064516129,\n",
              " 'KK Ahmed': 7.875,\n",
              " 'KW Richardson': 8.571428571428571,\n",
              " 'L Ngidi': 8.769230769230768,\n",
              " 'LI Meriwala': 12.923076923076925,\n",
              " 'M Jansen': 9.789473684210527,\n",
              " 'M Prasidh Krishna': 6.0,\n",
              " 'MC Henriques': 4.800000000000001,\n",
              " 'MP Stoinis': 8.333333333333332,\n",
              " 'Mohammad Nabi': 5.0,\n",
              " 'Mohammed Shami': 6.821917808219179,\n",
              " 'Mohammed Siraj': 6.162162162162161,\n",
              " 'Mujeeb Ur Rahman': 13.0,\n",
              " 'Mustafizur Rahman': 6.473684210526316,\n",
              " 'NA Saini': 12.0,\n",
              " 'PJ Cummins': 8.64,\n",
              " 'R Ashwin': 8.432432432432433,\n",
              " 'RD Chahar': 3.0,\n",
              " 'RP Meredith': 13.0,\n",
              " 'S Gopal': 9.0,\n",
              " 'S Kaul': 7.666666666666666,\n",
              " 'S Nadeem': 10.0,\n",
              " 'SM Curran': 7.23529411764706,\n",
              " 'SN Thakur': 11.0,\n",
              " 'SP Narine': 7.333333333333334,\n",
              " 'Sandeep Sharma': 11.5,\n",
              " 'Shakib Al Hasan': 8.2,\n",
              " 'Shivam Mavi': 4.421052631578947,\n",
              " 'T Natarajan': 11.5,\n",
              " 'TA Boult': 6.9565217391304355,\n",
              " 'TK Curran': 3.0,\n",
              " 'Washington Sundar': 7.894736842105262,\n",
              " 'YS Chahal': 7.75}"
            ]
          },
          "metadata": {
            "tags": []
          },
          "execution_count": 429
        }
      ]
    },
    {
      "cell_type": "code",
      "metadata": {
        "id": "TvK3oQY7GRjT",
        "colab": {
          "base_uri": "https://localhost:8080/"
        },
        "outputId": "6b183ebc-b476-405a-e9d2-890ef6d6ee2a"
      },
      "source": [
        "# Dataframe for batting team averages\n",
        "battingTeam = sixOversData[['batting_team','runs']].groupby(by='batting_team',as_index=False).agg({'runs': lambda x: getIQRMean(x)})\n",
        "battingTeam = battingTeam.rename(columns={'runs': 'batting_team_average'})\n",
        "battingTeamDict = battingTeam.set_index('batting_team').T.to_dict('item')\n",
        "battingTeamDict"
      ],
      "execution_count": null,
      "outputs": [
        {
          "output_type": "stream",
          "text": [
            "/usr/local/lib/python3.7/dist-packages/pandas/core/frame.py:1490: FutureWarning: Using short name for 'orient' is deprecated. Only the options: ('dict', list, 'series', 'split', 'records', 'index') will be used in a future version. Use one of the above to silence this warning.\n",
            "  FutureWarning,\n"
          ],
          "name": "stderr"
        },
        {
          "output_type": "execute_result",
          "data": {
            "text/plain": [
              "{'batting_team_average': {'Chennai Super Kings': 43.333333333333336,\n",
              "  'Delhi Capitals': 50.666666666666664,\n",
              "  'Kolkata Knight Riders': 45.5,\n",
              "  'Mumbai Indians': 45.333333333333336,\n",
              "  'Punjab Kings': 40.0,\n",
              "  'Rajasthan Royals': 42.333333333333336,\n",
              "  'Royal Challengers Bangalore': 50.666666666666664,\n",
              "  'Sunrisers Hyderabad': 52.0}}"
            ]
          },
          "metadata": {
            "tags": []
          },
          "execution_count": 430
        }
      ]
    },
    {
      "cell_type": "code",
      "metadata": {
        "id": "dRUNB4neGTk0",
        "colab": {
          "base_uri": "https://localhost:8080/"
        },
        "outputId": "ec9ad83e-4b6c-45f9-d4e3-dad83b3b700e"
      },
      "source": [
        "# Dataframe for bowling team averages\n",
        "bowlingTeam = sixOversData[['bowling_team','runs']].groupby(by='bowling_team',as_index=False).agg({'runs': lambda x: getIQRMean(x)})\n",
        "bowlingTeam = bowlingTeam.rename(columns={'runs': 'bowling_team_average'})\n",
        "bowlingTeamDict = bowlingTeam.set_index('bowling_team').T.to_dict('item')\n",
        "bowlingTeamDict"
      ],
      "execution_count": null,
      "outputs": [
        {
          "output_type": "stream",
          "text": [
            "/usr/local/lib/python3.7/dist-packages/pandas/core/frame.py:1490: FutureWarning: Using short name for 'orient' is deprecated. Only the options: ('dict', list, 'series', 'split', 'records', 'index') will be used in a future version. Use one of the above to silence this warning.\n",
            "  FutureWarning,\n"
          ],
          "name": "stderr"
        },
        {
          "output_type": "execute_result",
          "data": {
            "text/plain": [
              "{'bowling_team_average': {'Chennai Super Kings': 55.0,\n",
              "  'Delhi Capitals': 48.0,\n",
              "  'Kolkata Knight Riders': 43.5,\n",
              "  'Mumbai Indians': 45.333333333333336,\n",
              "  'Punjab Kings': 45.75,\n",
              "  'Rajasthan Royals': 42.666666666666664,\n",
              "  'Royal Challengers Bangalore': 47.333333333333336,\n",
              "  'Sunrisers Hyderabad': 49.333333333333336}}"
            ]
          },
          "metadata": {
            "tags": []
          },
          "execution_count": 431
        }
      ]
    },
    {
      "cell_type": "code",
      "metadata": {
        "colab": {
          "base_uri": "https://localhost:8080/",
          "height": 1000
        },
        "id": "wLkWV9CD7saX",
        "outputId": "e27cf025-eb83-4f64-a538-eb0d4d135fb8"
      },
      "source": [
        "sixOversData"
      ],
      "execution_count": null,
      "outputs": [
        {
          "output_type": "execute_result",
          "data": {
            "text/html": [
              "<div>\n",
              "<style scoped>\n",
              "    .dataframe tbody tr th:only-of-type {\n",
              "        vertical-align: middle;\n",
              "    }\n",
              "\n",
              "    .dataframe tbody tr th {\n",
              "        vertical-align: top;\n",
              "    }\n",
              "\n",
              "    .dataframe thead th {\n",
              "        text-align: right;\n",
              "    }\n",
              "</style>\n",
              "<table border=\"1\" class=\"dataframe\">\n",
              "  <thead>\n",
              "    <tr style=\"text-align: right;\">\n",
              "      <th></th>\n",
              "      <th>innings</th>\n",
              "      <th>venue</th>\n",
              "      <th>batting_team</th>\n",
              "      <th>bowling_team</th>\n",
              "      <th>striker</th>\n",
              "      <th>bowler</th>\n",
              "      <th>runs</th>\n",
              "    </tr>\n",
              "  </thead>\n",
              "  <tbody>\n",
              "    <tr>\n",
              "      <th>0</th>\n",
              "      <td>1</td>\n",
              "      <td>MA Chidambaram Stadium</td>\n",
              "      <td>Mumbai Indians</td>\n",
              "      <td>Royal Challengers Bangalore</td>\n",
              "      <td>RG Sharma,CA Lynn,SA Yadav</td>\n",
              "      <td>Mohammed Siraj,KA Jamieson,YS Chahal</td>\n",
              "      <td>41</td>\n",
              "    </tr>\n",
              "    <tr>\n",
              "      <th>1</th>\n",
              "      <td>2</td>\n",
              "      <td>MA Chidambaram Stadium</td>\n",
              "      <td>Royal Challengers Bangalore</td>\n",
              "      <td>Mumbai Indians</td>\n",
              "      <td>Washington Sundar,V Kohli,RM Patidar,GJ Maxwell</td>\n",
              "      <td>TA Boult,JJ Bumrah,M Jansen,KH Pandya</td>\n",
              "      <td>46</td>\n",
              "    </tr>\n",
              "    <tr>\n",
              "      <th>2</th>\n",
              "      <td>1</td>\n",
              "      <td>Wankhede Stadium</td>\n",
              "      <td>Chennai Super Kings</td>\n",
              "      <td>Delhi Capitals</td>\n",
              "      <td>RD Gaikwad,F du Plessis,MM Ali,SK Raina</td>\n",
              "      <td>CR Woakes,Avesh Khan,R Ashwin,TK Curran</td>\n",
              "      <td>33</td>\n",
              "    </tr>\n",
              "    <tr>\n",
              "      <th>3</th>\n",
              "      <td>2</td>\n",
              "      <td>Wankhede Stadium</td>\n",
              "      <td>Delhi Capitals</td>\n",
              "      <td>Chennai Super Kings</td>\n",
              "      <td>PP Shaw,S Dhawan</td>\n",
              "      <td>DL Chahar,SM Curran,SN Thakur</td>\n",
              "      <td>65</td>\n",
              "    </tr>\n",
              "    <tr>\n",
              "      <th>4</th>\n",
              "      <td>1</td>\n",
              "      <td>MA Chidambaram Stadium</td>\n",
              "      <td>Kolkata Knight Riders</td>\n",
              "      <td>Sunrisers Hyderabad</td>\n",
              "      <td>N Rana,Shubman Gill</td>\n",
              "      <td>B Kumar,Sandeep Sharma,T Natarajan,Mohammad Nabi</td>\n",
              "      <td>50</td>\n",
              "    </tr>\n",
              "    <tr>\n",
              "      <th>5</th>\n",
              "      <td>2</td>\n",
              "      <td>MA Chidambaram Stadium</td>\n",
              "      <td>Sunrisers Hyderabad</td>\n",
              "      <td>Kolkata Knight Riders</td>\n",
              "      <td>WP Saha,DA Warner,MK Pandey,JM Bairstow</td>\n",
              "      <td>Harbhajan Singh,M Prasidh Krishna,Shakib Al Ha...</td>\n",
              "      <td>35</td>\n",
              "    </tr>\n",
              "    <tr>\n",
              "      <th>6</th>\n",
              "      <td>1</td>\n",
              "      <td>Wankhede Stadium</td>\n",
              "      <td>Punjab Kings</td>\n",
              "      <td>Rajasthan Royals</td>\n",
              "      <td>KL Rahul,MA Agarwal,CH Gayle</td>\n",
              "      <td>C Sakariya,Mustafizur Rahman,CH Morris</td>\n",
              "      <td>46</td>\n",
              "    </tr>\n",
              "    <tr>\n",
              "      <th>7</th>\n",
              "      <td>2</td>\n",
              "      <td>Wankhede Stadium</td>\n",
              "      <td>Rajasthan Royals</td>\n",
              "      <td>Punjab Kings</td>\n",
              "      <td>BA Stokes,SV Samson,M Vohra,JC Buttler</td>\n",
              "      <td>Mohammed Shami,JA Richardson,Arshdeep Singh,RP...</td>\n",
              "      <td>59</td>\n",
              "    </tr>\n",
              "    <tr>\n",
              "      <th>8</th>\n",
              "      <td>1</td>\n",
              "      <td>MA Chidambaram Stadium</td>\n",
              "      <td>Mumbai Indians</td>\n",
              "      <td>Kolkata Knight Riders</td>\n",
              "      <td>RG Sharma,Q de Kock,SA Yadav</td>\n",
              "      <td>Harbhajan Singh,CV Varun,Shakib Al Hasan,PJ Cu...</td>\n",
              "      <td>42</td>\n",
              "    </tr>\n",
              "    <tr>\n",
              "      <th>9</th>\n",
              "      <td>2</td>\n",
              "      <td>MA Chidambaram Stadium</td>\n",
              "      <td>Kolkata Knight Riders</td>\n",
              "      <td>Mumbai Indians</td>\n",
              "      <td>N Rana,Shubman Gill</td>\n",
              "      <td>TA Boult,M Jansen,JJ Bumrah,KH Pandya</td>\n",
              "      <td>45</td>\n",
              "    </tr>\n",
              "    <tr>\n",
              "      <th>10</th>\n",
              "      <td>1</td>\n",
              "      <td>MA Chidambaram Stadium</td>\n",
              "      <td>Royal Challengers Bangalore</td>\n",
              "      <td>Sunrisers Hyderabad</td>\n",
              "      <td>V Kohli,D Padikkal,Shahbaz Ahmed</td>\n",
              "      <td>B Kumar,JO Holder,S Nadeem,T Natarajan</td>\n",
              "      <td>47</td>\n",
              "    </tr>\n",
              "    <tr>\n",
              "      <th>11</th>\n",
              "      <td>2</td>\n",
              "      <td>MA Chidambaram Stadium</td>\n",
              "      <td>Sunrisers Hyderabad</td>\n",
              "      <td>Royal Challengers Bangalore</td>\n",
              "      <td>WP Saha,DA Warner,MK Pandey</td>\n",
              "      <td>Mohammed Siraj,KA Jamieson,Washington Sundar</td>\n",
              "      <td>50</td>\n",
              "    </tr>\n",
              "    <tr>\n",
              "      <th>12</th>\n",
              "      <td>1</td>\n",
              "      <td>Wankhede Stadium</td>\n",
              "      <td>Delhi Capitals</td>\n",
              "      <td>Rajasthan Royals</td>\n",
              "      <td>PP Shaw,S Dhawan,AM Rahane,RR Pant,MP Stoinis</td>\n",
              "      <td>C Sakariya,JD Unadkat,CH Morris</td>\n",
              "      <td>36</td>\n",
              "    </tr>\n",
              "    <tr>\n",
              "      <th>13</th>\n",
              "      <td>2</td>\n",
              "      <td>Wankhede Stadium</td>\n",
              "      <td>Rajasthan Royals</td>\n",
              "      <td>Delhi Capitals</td>\n",
              "      <td>JC Buttler,M Vohra,SV Samson,DA Miller,S Dube</td>\n",
              "      <td>CR Woakes,Avesh Khan,K Rabada</td>\n",
              "      <td>26</td>\n",
              "    </tr>\n",
              "    <tr>\n",
              "      <th>14</th>\n",
              "      <td>1</td>\n",
              "      <td>Wankhede Stadium</td>\n",
              "      <td>Punjab Kings</td>\n",
              "      <td>Chennai Super Kings</td>\n",
              "      <td>KL Rahul,MA Agarwal,CH Gayle,DJ Hooda,N Pooran...</td>\n",
              "      <td>DL Chahar,SM Curran,SN Thakur</td>\n",
              "      <td>26</td>\n",
              "    </tr>\n",
              "    <tr>\n",
              "      <th>15</th>\n",
              "      <td>2</td>\n",
              "      <td>Wankhede Stadium</td>\n",
              "      <td>Chennai Super Kings</td>\n",
              "      <td>Punjab Kings</td>\n",
              "      <td>RD Gaikwad,F du Plessis,MM Ali</td>\n",
              "      <td>Mohammed Shami,JA Richardson,Arshdeep Singh,RP...</td>\n",
              "      <td>32</td>\n",
              "    </tr>\n",
              "    <tr>\n",
              "      <th>16</th>\n",
              "      <td>1</td>\n",
              "      <td>MA Chidambaram Stadium</td>\n",
              "      <td>Mumbai Indians</td>\n",
              "      <td>Sunrisers Hyderabad</td>\n",
              "      <td>Q de Kock,RG Sharma</td>\n",
              "      <td>B Kumar,KK Ahmed,Mujeeb Ur Rahman,Abhishek Sharma</td>\n",
              "      <td>53</td>\n",
              "    </tr>\n",
              "    <tr>\n",
              "      <th>17</th>\n",
              "      <td>2</td>\n",
              "      <td>MA Chidambaram Stadium</td>\n",
              "      <td>Sunrisers Hyderabad</td>\n",
              "      <td>Mumbai Indians</td>\n",
              "      <td>DA Warner,JM Bairstow</td>\n",
              "      <td>TA Boult,JJ Bumrah,AF Milne,KH Pandya</td>\n",
              "      <td>57</td>\n",
              "    </tr>\n",
              "    <tr>\n",
              "      <th>18</th>\n",
              "      <td>1</td>\n",
              "      <td>MA Chidambaram Stadium</td>\n",
              "      <td>Royal Challengers Bangalore</td>\n",
              "      <td>Kolkata Knight Riders</td>\n",
              "      <td>V Kohli,D Padikkal,RM Patidar,GJ Maxwell</td>\n",
              "      <td>Harbhajan Singh,CV Varun,Shakib Al Hasan,PJ Cu...</td>\n",
              "      <td>45</td>\n",
              "    </tr>\n",
              "    <tr>\n",
              "      <th>19</th>\n",
              "      <td>2</td>\n",
              "      <td>MA Chidambaram Stadium</td>\n",
              "      <td>Kolkata Knight Riders</td>\n",
              "      <td>Royal Challengers Bangalore</td>\n",
              "      <td>N Rana,Shubman Gill,RA Tripathi</td>\n",
              "      <td>Mohammed Siraj,KA Jamieson,YS Chahal,Washingto...</td>\n",
              "      <td>57</td>\n",
              "    </tr>\n",
              "    <tr>\n",
              "      <th>20</th>\n",
              "      <td>1</td>\n",
              "      <td>Wankhede Stadium</td>\n",
              "      <td>Punjab Kings</td>\n",
              "      <td>Delhi Capitals</td>\n",
              "      <td>KL Rahul,MA Agarwal</td>\n",
              "      <td>CR Woakes,LI Meriwala,R Ashwin,K Rabada</td>\n",
              "      <td>59</td>\n",
              "    </tr>\n",
              "    <tr>\n",
              "      <th>21</th>\n",
              "      <td>2</td>\n",
              "      <td>Wankhede Stadium</td>\n",
              "      <td>Delhi Capitals</td>\n",
              "      <td>Punjab Kings</td>\n",
              "      <td>PP Shaw,S Dhawan,SPD Smith</td>\n",
              "      <td>Arshdeep Singh,Mohammed Shami,Jalaj S Saxena,J...</td>\n",
              "      <td>62</td>\n",
              "    </tr>\n",
              "    <tr>\n",
              "      <th>22</th>\n",
              "      <td>1</td>\n",
              "      <td>Wankhede Stadium</td>\n",
              "      <td>Chennai Super Kings</td>\n",
              "      <td>Rajasthan Royals</td>\n",
              "      <td>RD Gaikwad,F du Plessis,MM Ali</td>\n",
              "      <td>JD Unadkat,C Sakariya,Mustafizur Rahman,CH Morris</td>\n",
              "      <td>46</td>\n",
              "    </tr>\n",
              "    <tr>\n",
              "      <th>23</th>\n",
              "      <td>2</td>\n",
              "      <td>Wankhede Stadium</td>\n",
              "      <td>Rajasthan Royals</td>\n",
              "      <td>Chennai Super Kings</td>\n",
              "      <td>JC Buttler,M Vohra,SV Samson,S Dube</td>\n",
              "      <td>DL Chahar,SM Curran</td>\n",
              "      <td>45</td>\n",
              "    </tr>\n",
              "    <tr>\n",
              "      <th>24</th>\n",
              "      <td>1</td>\n",
              "      <td>MA Chidambaram Stadium</td>\n",
              "      <td>Mumbai Indians</td>\n",
              "      <td>Delhi Capitals</td>\n",
              "      <td>RG Sharma,Q de Kock,SA Yadav</td>\n",
              "      <td>MP Stoinis,R Ashwin,K Rabada,A Mishra</td>\n",
              "      <td>55</td>\n",
              "    </tr>\n",
              "    <tr>\n",
              "      <th>25</th>\n",
              "      <td>2</td>\n",
              "      <td>MA Chidambaram Stadium</td>\n",
              "      <td>Delhi Capitals</td>\n",
              "      <td>Mumbai Indians</td>\n",
              "      <td>PP Shaw,S Dhawan,SPD Smith</td>\n",
              "      <td>TA Boult,J Yadav,JJ Bumrah,KH Pandya</td>\n",
              "      <td>39</td>\n",
              "    </tr>\n",
              "    <tr>\n",
              "      <th>26</th>\n",
              "      <td>1</td>\n",
              "      <td>MA Chidambaram Stadium</td>\n",
              "      <td>Punjab Kings</td>\n",
              "      <td>Sunrisers Hyderabad</td>\n",
              "      <td>KL Rahul,MA Agarwal,CH Gayle</td>\n",
              "      <td>Abhishek Sharma,B Kumar,KK Ahmed,S Kaul</td>\n",
              "      <td>32</td>\n",
              "    </tr>\n",
              "    <tr>\n",
              "      <th>27</th>\n",
              "      <td>2</td>\n",
              "      <td>MA Chidambaram Stadium</td>\n",
              "      <td>Sunrisers Hyderabad</td>\n",
              "      <td>Punjab Kings</td>\n",
              "      <td>DA Warner,JM Bairstow</td>\n",
              "      <td>Mohammed Shami,FA Allen,Arshdeep Singh,MC Henr...</td>\n",
              "      <td>50</td>\n",
              "    </tr>\n",
              "    <tr>\n",
              "      <th>28</th>\n",
              "      <td>1</td>\n",
              "      <td>Wankhede Stadium</td>\n",
              "      <td>Chennai Super Kings</td>\n",
              "      <td>Kolkata Knight Riders</td>\n",
              "      <td>RD Gaikwad,F du Plessis</td>\n",
              "      <td>CV Varun,PJ Cummins,SP Narine,M Prasidh Krishna</td>\n",
              "      <td>54</td>\n",
              "    </tr>\n",
              "    <tr>\n",
              "      <th>29</th>\n",
              "      <td>2</td>\n",
              "      <td>Wankhede Stadium</td>\n",
              "      <td>Kolkata Knight Riders</td>\n",
              "      <td>Chennai Super Kings</td>\n",
              "      <td>N Rana,Shubman Gill,RA Tripathi,EJG Morgan,SP ...</td>\n",
              "      <td>DL Chahar,SM Curran,L Ngidi</td>\n",
              "      <td>45</td>\n",
              "    </tr>\n",
              "    <tr>\n",
              "      <th>30</th>\n",
              "      <td>1</td>\n",
              "      <td>Wankhede Stadium</td>\n",
              "      <td>Rajasthan Royals</td>\n",
              "      <td>Royal Challengers Bangalore</td>\n",
              "      <td>JC Buttler,M Vohra,SV Samson,DA Miller,S Dube</td>\n",
              "      <td>Mohammed Siraj,KA Jamieson,KW Richardson</td>\n",
              "      <td>32</td>\n",
              "    </tr>\n",
              "    <tr>\n",
              "      <th>31</th>\n",
              "      <td>2</td>\n",
              "      <td>Wankhede Stadium</td>\n",
              "      <td>Royal Challengers Bangalore</td>\n",
              "      <td>Rajasthan Royals</td>\n",
              "      <td>V Kohli,D Padikkal</td>\n",
              "      <td>S Gopal,C Sakariya,CH Morris,Mustafizur Rahman</td>\n",
              "      <td>59</td>\n",
              "    </tr>\n",
              "    <tr>\n",
              "      <th>32</th>\n",
              "      <td>1</td>\n",
              "      <td>MA Chidambaram Stadium</td>\n",
              "      <td>Mumbai Indians</td>\n",
              "      <td>Punjab Kings</td>\n",
              "      <td>Q de Kock,RG Sharma,Ishan Kishan</td>\n",
              "      <td>MC Henriques,DJ Hooda,Mohammed Shami</td>\n",
              "      <td>21</td>\n",
              "    </tr>\n",
              "    <tr>\n",
              "      <th>33</th>\n",
              "      <td>2</td>\n",
              "      <td>MA Chidambaram Stadium</td>\n",
              "      <td>Punjab Kings</td>\n",
              "      <td>Mumbai Indians</td>\n",
              "      <td>KL Rahul,MA Agarwal</td>\n",
              "      <td>TA Boult,KH Pandya,JJ Bumrah,RD Chahar</td>\n",
              "      <td>45</td>\n",
              "    </tr>\n",
              "    <tr>\n",
              "      <th>34</th>\n",
              "      <td>1</td>\n",
              "      <td>Wankhede Stadium</td>\n",
              "      <td>Kolkata Knight Riders</td>\n",
              "      <td>Rajasthan Royals</td>\n",
              "      <td>N Rana,Shubman Gill</td>\n",
              "      <td>JD Unadkat,C Sakariya,Mustafizur Rahman,CH Morris</td>\n",
              "      <td>25</td>\n",
              "    </tr>\n",
              "    <tr>\n",
              "      <th>35</th>\n",
              "      <td>2</td>\n",
              "      <td>Wankhede Stadium</td>\n",
              "      <td>Rajasthan Royals</td>\n",
              "      <td>Kolkata Knight Riders</td>\n",
              "      <td>JC Buttler,YBK Jaiswal,SV Samson,S Dube</td>\n",
              "      <td>Shivam Mavi,PJ Cummins,CV Varun,SP Narine</td>\n",
              "      <td>50</td>\n",
              "    </tr>\n",
              "    <tr>\n",
              "      <th>36</th>\n",
              "      <td>1</td>\n",
              "      <td>Wankhede Stadium</td>\n",
              "      <td>Chennai Super Kings</td>\n",
              "      <td>Royal Challengers Bangalore</td>\n",
              "      <td>RD Gaikwad,F du Plessis</td>\n",
              "      <td>Mohammed Siraj,KA Jamieson,YS Chahal,NA Saini</td>\n",
              "      <td>51</td>\n",
              "    </tr>\n",
              "    <tr>\n",
              "      <th>37</th>\n",
              "      <td>2</td>\n",
              "      <td>Wankhede Stadium</td>\n",
              "      <td>Royal Challengers Bangalore</td>\n",
              "      <td>Chennai Super Kings</td>\n",
              "      <td>V Kohli,D Padikkal,Washington Sundar,GJ Maxwell</td>\n",
              "      <td>DL Chahar,SM Curran,SN Thakur</td>\n",
              "      <td>65</td>\n",
              "    </tr>\n",
              "    <tr>\n",
              "      <th>38</th>\n",
              "      <td>1</td>\n",
              "      <td>MA Chidambaram Stadium</td>\n",
              "      <td>Delhi Capitals</td>\n",
              "      <td>Sunrisers Hyderabad</td>\n",
              "      <td>PP Shaw,S Dhawan</td>\n",
              "      <td>KK Ahmed,Abhishek Sharma,S Kaul,J Suchith</td>\n",
              "      <td>51</td>\n",
              "    </tr>\n",
              "    <tr>\n",
              "      <th>39</th>\n",
              "      <td>2</td>\n",
              "      <td>MA Chidambaram Stadium</td>\n",
              "      <td>Sunrisers Hyderabad</td>\n",
              "      <td>Delhi Capitals</td>\n",
              "      <td>DA Warner,JM Bairstow,KS Williamson,Virat Singh</td>\n",
              "      <td>K Rabada,R Ashwin,MP Stoinis,AR Patel,Avesh Khan</td>\n",
              "      <td>56</td>\n",
              "    </tr>\n",
              "    <tr>\n",
              "      <th>40</th>\n",
              "      <td>1</td>\n",
              "      <td>Narendra Modi Stadium</td>\n",
              "      <td>Punjab Kings</td>\n",
              "      <td>Kolkata Knight Riders</td>\n",
              "      <td>KL Rahul,MA Agarwal</td>\n",
              "      <td>Shivam Mavi,PJ Cummins,SP Narine</td>\n",
              "      <td>37</td>\n",
              "    </tr>\n",
              "    <tr>\n",
              "      <th>41</th>\n",
              "      <td>2</td>\n",
              "      <td>Narendra Modi Stadium</td>\n",
              "      <td>Kolkata Knight Riders</td>\n",
              "      <td>Punjab Kings</td>\n",
              "      <td>Shubman Gill,N Rana,RA Tripathi,SP Narine,EJG ...</td>\n",
              "      <td>MC Henriques,Mohammed Shami,Arshdeep Singh</td>\n",
              "      <td>42</td>\n",
              "    </tr>\n",
              "  </tbody>\n",
              "</table>\n",
              "</div>"
            ],
            "text/plain": [
              "    innings  ... runs\n",
              "0         1  ...   41\n",
              "1         2  ...   46\n",
              "2         1  ...   33\n",
              "3         2  ...   65\n",
              "4         1  ...   50\n",
              "5         2  ...   35\n",
              "6         1  ...   46\n",
              "7         2  ...   59\n",
              "8         1  ...   42\n",
              "9         2  ...   45\n",
              "10        1  ...   47\n",
              "11        2  ...   50\n",
              "12        1  ...   36\n",
              "13        2  ...   26\n",
              "14        1  ...   26\n",
              "15        2  ...   32\n",
              "16        1  ...   53\n",
              "17        2  ...   57\n",
              "18        1  ...   45\n",
              "19        2  ...   57\n",
              "20        1  ...   59\n",
              "21        2  ...   62\n",
              "22        1  ...   46\n",
              "23        2  ...   45\n",
              "24        1  ...   55\n",
              "25        2  ...   39\n",
              "26        1  ...   32\n",
              "27        2  ...   50\n",
              "28        1  ...   54\n",
              "29        2  ...   45\n",
              "30        1  ...   32\n",
              "31        2  ...   59\n",
              "32        1  ...   21\n",
              "33        2  ...   45\n",
              "34        1  ...   25\n",
              "35        2  ...   50\n",
              "36        1  ...   51\n",
              "37        2  ...   65\n",
              "38        1  ...   51\n",
              "39        2  ...   56\n",
              "40        1  ...   37\n",
              "41        2  ...   42\n",
              "\n",
              "[42 rows x 7 columns]"
            ]
          },
          "metadata": {
            "tags": []
          },
          "execution_count": 432
        }
      ]
    },
    {
      "cell_type": "code",
      "metadata": {
        "id": "bD_ZhRLrHgm1",
        "colab": {
          "base_uri": "https://localhost:8080/"
        },
        "outputId": "af81406b-5e68-4001-ba17-15e4989160bb"
      },
      "source": [
        "# Dataframe for stadium averages\n",
        "stadiumData = sixOversData[['venue','runs']].groupby(by='venue',as_index=False).agg({'runs': lambda x: getIQRMean(x)})\n",
        "stadiumData = stadiumData.rename(columns={'runs': 'stadium_average'})\n",
        "stadiumDataDict = stadiumData.set_index('venue').T.to_dict('item')\n"
      ],
      "execution_count": null,
      "outputs": [
        {
          "output_type": "stream",
          "text": [
            "/usr/local/lib/python3.7/dist-packages/pandas/core/frame.py:1490: FutureWarning: Using short name for 'orient' is deprecated. Only the options: ('dict', list, 'series', 'split', 'records', 'index') will be used in a future version. Use one of the above to silence this warning.\n",
            "  FutureWarning,\n"
          ],
          "name": "stderr"
        }
      ]
    },
    {
      "cell_type": "code",
      "metadata": {
        "colab": {
          "base_uri": "https://localhost:8080/",
          "height": 141
        },
        "id": "sp0lM-i-I-i8",
        "outputId": "b29c6f88-7338-41c9-bd55-49332715619c"
      },
      "source": [
        "\n",
        "stadiumData = stadiumData.fillna(39.5)\n",
        "stadiumData"
      ],
      "execution_count": null,
      "outputs": [
        {
          "output_type": "execute_result",
          "data": {
            "text/html": [
              "<div>\n",
              "<style scoped>\n",
              "    .dataframe tbody tr th:only-of-type {\n",
              "        vertical-align: middle;\n",
              "    }\n",
              "\n",
              "    .dataframe tbody tr th {\n",
              "        vertical-align: top;\n",
              "    }\n",
              "\n",
              "    .dataframe thead th {\n",
              "        text-align: right;\n",
              "    }\n",
              "</style>\n",
              "<table border=\"1\" class=\"dataframe\">\n",
              "  <thead>\n",
              "    <tr style=\"text-align: right;\">\n",
              "      <th></th>\n",
              "      <th>venue</th>\n",
              "      <th>stadium_average</th>\n",
              "    </tr>\n",
              "  </thead>\n",
              "  <tbody>\n",
              "    <tr>\n",
              "      <th>0</th>\n",
              "      <td>MA Chidambaram Stadium</td>\n",
              "      <td>46.875000</td>\n",
              "    </tr>\n",
              "    <tr>\n",
              "      <th>1</th>\n",
              "      <td>Narendra Modi Stadium</td>\n",
              "      <td>39.500000</td>\n",
              "    </tr>\n",
              "    <tr>\n",
              "      <th>2</th>\n",
              "      <td>Wankhede Stadium</td>\n",
              "      <td>44.764706</td>\n",
              "    </tr>\n",
              "  </tbody>\n",
              "</table>\n",
              "</div>"
            ],
            "text/plain": [
              "                    venue  stadium_average\n",
              "0  MA Chidambaram Stadium        46.875000\n",
              "1   Narendra Modi Stadium        39.500000\n",
              "2        Wankhede Stadium        44.764706"
            ]
          },
          "metadata": {
            "tags": []
          },
          "execution_count": 434
        }
      ]
    },
    {
      "cell_type": "code",
      "metadata": {
        "id": "zJJmJkwkGyzG"
      },
      "source": [
        "# method to get batsmen averages\n",
        "def getAllBatsmenAverage(batsmen):\n",
        "  batsmenAvgs =[] \n",
        "  iqr = np.mean(playerStrikeRates['runs_off_bat'][playerStrikeRates['runs_off_bat'].between(playerStrikeRates['runs_off_bat'].quantile(.1), playerStrikeRates['runs_off_bat'].quantile(.9), inclusive=True)])\n",
        "\n",
        "  for b in batsmen.split(','):\n",
        "    if b in playerStrikeRates.striker.unique():\n",
        "      batsmenAvgs.append(playerStrikeRates[playerStrikeRates.striker == b]['runs_off_bat'].item())\n",
        "    else:\n",
        "      batsmenAvgs.append(getIQRMean(playerStrikeRates['runs_off_bat']))\n",
        "  return np.mean(batsmenAvgs)\n",
        "  # [playerStrikeRates[playerStrikeRates.striker == b]['runs_off_bat'] for b in batsmen.split(',')]"
      ],
      "execution_count": null,
      "outputs": []
    },
    {
      "cell_type": "code",
      "metadata": {
        "id": "ezv6V6mLDUsV"
      },
      "source": [
        "# method to get bowler averages\n",
        "def getAllBowlersAverage(bowlers):\n",
        "  bowlerAvgs =[] \n",
        "  iqr = np.mean(bowlerAverage['economy'][bowlerAverage['economy'].between(bowlerAverage['economy'].quantile(.1), bowlerAverage['economy'].quantile(.9), inclusive=True)])\n",
        "\n",
        "  for b in bowlers.split(','):\n",
        "    if b in bowlerAverage.bowler.unique():\n",
        "      bowlerAvgs.append(bowlerAverage[bowlerAverage.bowler == b]['economy'].item())\n",
        "    else:\n",
        "      bowlerAvgs.append(getIQRMean(bowlerAverage['economy']))\n",
        "  return np.mean(bowlerAvgs)\n",
        "  #np.mean([bowlerAverage[bowlerAverage.bowler == b]['economy'] for b in bowlers.split(',')])"
      ],
      "execution_count": null,
      "outputs": []
    },
    {
      "cell_type": "code",
      "metadata": {
        "id": "3v6aoikmq0mN",
        "colab": {
          "base_uri": "https://localhost:8080/"
        },
        "outputId": "a6ccd655-8398-4043-a5ec-c7af29447398"
      },
      "source": [
        "# method to get batting team averages\n",
        "def getBattingTeamAverage(team):\n",
        "  return (battingTeam[battingTeam.batting_team == team]['batting_team_average'].item() )\n",
        "  # return battingTeam[battingTeam.batting_team == team]['batting_team_average'] \n",
        "getBattingTeamAverage(\"Chennai Super Kings\")"
      ],
      "execution_count": null,
      "outputs": [
        {
          "output_type": "execute_result",
          "data": {
            "text/plain": [
              "43.333333333333336"
            ]
          },
          "metadata": {
            "tags": []
          },
          "execution_count": 437
        }
      ]
    },
    {
      "cell_type": "code",
      "metadata": {
        "id": "iPOwZeisGfGX"
      },
      "source": [
        "# method to get bowling team averages\n",
        "def getBowlingTeamAverage(team):\n",
        "  return (bowlingTeam[bowlingTeam.bowling_team == team]['bowling_team_average'].item() )"
      ],
      "execution_count": null,
      "outputs": []
    },
    {
      "cell_type": "code",
      "metadata": {
        "id": "d9fmS2T8HBsV"
      },
      "source": [
        "# method to get stadium averages\n",
        "def getStadiumAverage(stadium):\n",
        "  return (stadiumData[stadiumData.venue == stadium][\"stadium_average\"].item())"
      ],
      "execution_count": null,
      "outputs": []
    },
    {
      "cell_type": "code",
      "metadata": {
        "id": "q00Sg8S5oXhD",
        "colab": {
          "base_uri": "https://localhost:8080/"
        },
        "outputId": "3c36bb44-6a94-498d-9b2e-2d970f3012c0"
      },
      "source": [
        "# make a copy\n",
        "sixOversDataBatBowl = sixOversData\n",
        "sixOversDataBatBowl.venue.unique()"
      ],
      "execution_count": null,
      "outputs": [
        {
          "output_type": "execute_result",
          "data": {
            "text/plain": [
              "array(['MA Chidambaram Stadium', 'Wankhede Stadium',\n",
              "       'Narendra Modi Stadium'], dtype=object)"
            ]
          },
          "metadata": {
            "tags": []
          },
          "execution_count": 440
        }
      ]
    },
    {
      "cell_type": "markdown",
      "metadata": {
        "id": "aHezUSQ7OB0B"
      },
      "source": [
        "#Create Columns\n"
      ]
    },
    {
      "cell_type": "code",
      "metadata": {
        "id": "58f18hXy0N0d"
      },
      "source": [
        "sixOversDataBatBowl['batsmen_average'] = sixOversDataBatBowl['striker'].apply(getAllBatsmenAverage)"
      ],
      "execution_count": null,
      "outputs": []
    },
    {
      "cell_type": "code",
      "metadata": {
        "id": "hJkaU0Ahq28w"
      },
      "source": [
        "sixOversDataBatBowl['bowler_economy'] = sixOversDataBatBowl['bowler'].apply(getAllBowlersAverage)"
      ],
      "execution_count": null,
      "outputs": []
    },
    {
      "cell_type": "code",
      "metadata": {
        "id": "Ku52mwkWqr5s"
      },
      "source": [
        "sixOversDataBatBowl['batting_team_average'] = sixOversDataBatBowl['batting_team'].apply(getBattingTeamAverage)"
      ],
      "execution_count": null,
      "outputs": []
    },
    {
      "cell_type": "code",
      "metadata": {
        "id": "a5w4zyWLrJqH"
      },
      "source": [
        "sixOversDataBatBowl['bowling_team_average'] = sixOversDataBatBowl['bowling_team'].apply(getBowlingTeamAverage)"
      ],
      "execution_count": null,
      "outputs": []
    },
    {
      "cell_type": "code",
      "metadata": {
        "id": "d7w41F6F07s1"
      },
      "source": [
        "sixOversDataBatBowl['stadium_average'] = sixOversDataBatBowl['venue'].apply(getStadiumAverage)"
      ],
      "execution_count": null,
      "outputs": []
    },
    {
      "cell_type": "code",
      "metadata": {
        "id": "G9KOY8BsJ9YO"
      },
      "source": [
        "sixOversDataBatBowl['wickets_fallen'] = sixOversDataBatBowl['striker'].apply(lambda x : len(x.split(',')) - 2)"
      ],
      "execution_count": null,
      "outputs": []
    },
    {
      "cell_type": "code",
      "metadata": {
        "id": "pB1LY-r8KOMF"
      },
      "source": [
        "sixOversDataBatBowl.drop(columns=[\"venue\",\"striker\",\"bowler\",\"batting_team\",\"bowling_team\"],inplace=True)"
      ],
      "execution_count": null,
      "outputs": []
    },
    {
      "cell_type": "code",
      "metadata": {
        "id": "TLpKUKY_Ocm1"
      },
      "source": [
        "sixOversDataBatBowl['innings'] = sixOversDataBatBowl.innings -1"
      ],
      "execution_count": null,
      "outputs": []
    },
    {
      "cell_type": "code",
      "metadata": {
        "id": "n2aY9T7Qv0iR",
        "colab": {
          "base_uri": "https://localhost:8080/"
        },
        "outputId": "01e663b3-58d0-4921-e101-2a897af218ef"
      },
      "source": [
        "# sixOversDataStadium.drop('venue',axis=1,inplace=True)\n",
        "sixOversDataBatBowl.wickets_fallen.unique()"
      ],
      "execution_count": null,
      "outputs": [
        {
          "output_type": "execute_result",
          "data": {
            "text/plain": [
              "array([1, 2, 0, 3, 4])"
            ]
          },
          "metadata": {
            "tags": []
          },
          "execution_count": 449
        }
      ]
    },
    {
      "cell_type": "code",
      "metadata": {
        "id": "D9_jkxP8kPCm",
        "colab": {
          "base_uri": "https://localhost:8080/",
          "height": 719
        },
        "outputId": "9f56d3cd-4424-4579-d1c4-390c16db5dcf"
      },
      "source": [
        " fig, ax = plt.subplots(figsize=(10,10))\n",
        "sns.heatmap(data=sixOversDataBatBowl.corr(),ax=ax)\n"
      ],
      "execution_count": null,
      "outputs": [
        {
          "output_type": "execute_result",
          "data": {
            "text/plain": [
              "<matplotlib.axes._subplots.AxesSubplot at 0x7fa263b9d4d0>"
            ]
          },
          "metadata": {
            "tags": []
          },
          "execution_count": 450
        },
        {
          "output_type": "display_data",
          "data": {
            "image/png": "[encoded data removed]",
            "text/plain": [
              "<Figure size 720x720 with 2 Axes>"
            ]
          },
          "metadata": {
            "tags": [],
            "needs_background": "light"
          }
        }
      ]
    },
    {
      "cell_type": "code",
      "metadata": {
        "colab": {
          "base_uri": "https://localhost:8080/",
          "height": 1000
        },
        "id": "U8WwZccQRq0R",
        "outputId": "5cb42c5d-b17d-473b-9a69-f31fc746caa7"
      },
      "source": [
        "sixOversDataBatBowl.drop('bowling_team_average',axis=1,inplace=True)\n",
        "sixOversDataBatBowl"
      ],
      "execution_count": null,
      "outputs": [
        {
          "output_type": "execute_result",
          "data": {
            "text/html": [
              "<div>\n",
              "<style scoped>\n",
              "    .dataframe tbody tr th:only-of-type {\n",
              "        vertical-align: middle;\n",
              "    }\n",
              "\n",
              "    .dataframe tbody tr th {\n",
              "        vertical-align: top;\n",
              "    }\n",
              "\n",
              "    .dataframe thead th {\n",
              "        text-align: right;\n",
              "    }\n",
              "</style>\n",
              "<table border=\"1\" class=\"dataframe\">\n",
              "  <thead>\n",
              "    <tr style=\"text-align: right;\">\n",
              "      <th></th>\n",
              "      <th>innings</th>\n",
              "      <th>runs</th>\n",
              "      <th>batsmen_average</th>\n",
              "      <th>bowler_economy</th>\n",
              "      <th>batting_team_average</th>\n",
              "      <th>stadium_average</th>\n",
              "      <th>wickets_fallen</th>\n",
              "    </tr>\n",
              "  </thead>\n",
              "  <tbody>\n",
              "    <tr>\n",
              "      <th>0</th>\n",
              "      <td>0</td>\n",
              "      <td>41</td>\n",
              "      <td>1.172078</td>\n",
              "      <td>7.315959</td>\n",
              "      <td>45.333333</td>\n",
              "      <td>46.875000</td>\n",
              "      <td>1</td>\n",
              "    </tr>\n",
              "    <tr>\n",
              "      <th>1</th>\n",
              "      <td>1</td>\n",
              "      <td>46</td>\n",
              "      <td>1.134820</td>\n",
              "      <td>7.627609</td>\n",
              "      <td>50.666667</td>\n",
              "      <td>46.875000</td>\n",
              "      <td>2</td>\n",
              "    </tr>\n",
              "    <tr>\n",
              "      <th>2</th>\n",
              "      <td>0</td>\n",
              "      <td>33</td>\n",
              "      <td>1.076175</td>\n",
              "      <td>5.655251</td>\n",
              "      <td>43.333333</td>\n",
              "      <td>44.764706</td>\n",
              "      <td>2</td>\n",
              "    </tr>\n",
              "    <tr>\n",
              "      <th>3</th>\n",
              "      <td>1</td>\n",
              "      <td>65</td>\n",
              "      <td>1.454293</td>\n",
              "      <td>8.623886</td>\n",
              "      <td>50.666667</td>\n",
              "      <td>44.764706</td>\n",
              "      <td>0</td>\n",
              "    </tr>\n",
              "    <tr>\n",
              "      <th>4</th>\n",
              "      <td>0</td>\n",
              "      <td>50</td>\n",
              "      <td>1.100179</td>\n",
              "      <td>8.445455</td>\n",
              "      <td>45.500000</td>\n",
              "      <td>46.875000</td>\n",
              "      <td>0</td>\n",
              "    </tr>\n",
              "    <tr>\n",
              "      <th>5</th>\n",
              "      <td>1</td>\n",
              "      <td>35</td>\n",
              "      <td>1.078658</td>\n",
              "      <td>7.255455</td>\n",
              "      <td>52.000000</td>\n",
              "      <td>46.875000</td>\n",
              "      <td>2</td>\n",
              "    </tr>\n",
              "    <tr>\n",
              "      <th>6</th>\n",
              "      <td>0</td>\n",
              "      <td>46</td>\n",
              "      <td>1.064641</td>\n",
              "      <td>6.696594</td>\n",
              "      <td>40.000000</td>\n",
              "      <td>44.764706</td>\n",
              "      <td>1</td>\n",
              "    </tr>\n",
              "    <tr>\n",
              "      <th>7</th>\n",
              "      <td>1</td>\n",
              "      <td>59</td>\n",
              "      <td>0.876848</td>\n",
              "      <td>9.215479</td>\n",
              "      <td>42.333333</td>\n",
              "      <td>44.764706</td>\n",
              "      <td>2</td>\n",
              "    </tr>\n",
              "    <tr>\n",
              "      <th>8</th>\n",
              "      <td>0</td>\n",
              "      <td>42</td>\n",
              "      <td>1.126922</td>\n",
              "      <td>7.701400</td>\n",
              "      <td>45.333333</td>\n",
              "      <td>46.875000</td>\n",
              "      <td>1</td>\n",
              "    </tr>\n",
              "    <tr>\n",
              "      <th>9</th>\n",
              "      <td>1</td>\n",
              "      <td>45</td>\n",
              "      <td>1.100179</td>\n",
              "      <td>7.627609</td>\n",
              "      <td>45.500000</td>\n",
              "      <td>46.875000</td>\n",
              "      <td>0</td>\n",
              "    </tr>\n",
              "    <tr>\n",
              "      <th>10</th>\n",
              "      <td>0</td>\n",
              "      <td>47</td>\n",
              "      <td>1.402778</td>\n",
              "      <td>8.666608</td>\n",
              "      <td>50.666667</td>\n",
              "      <td>46.875000</td>\n",
              "      <td>1</td>\n",
              "    </tr>\n",
              "    <tr>\n",
              "      <th>11</th>\n",
              "      <td>1</td>\n",
              "      <td>50</td>\n",
              "      <td>0.868163</td>\n",
              "      <td>7.364204</td>\n",
              "      <td>52.000000</td>\n",
              "      <td>46.875000</td>\n",
              "      <td>1</td>\n",
              "    </tr>\n",
              "    <tr>\n",
              "      <th>12</th>\n",
              "      <td>0</td>\n",
              "      <td>36</td>\n",
              "      <td>1.032222</td>\n",
              "      <td>6.747033</td>\n",
              "      <td>50.666667</td>\n",
              "      <td>44.764706</td>\n",
              "      <td>3</td>\n",
              "    </tr>\n",
              "    <tr>\n",
              "      <th>13</th>\n",
              "      <td>1</td>\n",
              "      <td>26</td>\n",
              "      <td>0.974555</td>\n",
              "      <td>6.262857</td>\n",
              "      <td>42.333333</td>\n",
              "      <td>44.764706</td>\n",
              "      <td>3</td>\n",
              "    </tr>\n",
              "    <tr>\n",
              "      <th>14</th>\n",
              "      <td>0</td>\n",
              "      <td>26</td>\n",
              "      <td>0.651368</td>\n",
              "      <td>8.623886</td>\n",
              "      <td>40.000000</td>\n",
              "      <td>44.764706</td>\n",
              "      <td>4</td>\n",
              "    </tr>\n",
              "    <tr>\n",
              "      <th>15</th>\n",
              "      <td>1</td>\n",
              "      <td>32</td>\n",
              "      <td>1.075926</td>\n",
              "      <td>9.215479</td>\n",
              "      <td>43.333333</td>\n",
              "      <td>44.764706</td>\n",
              "      <td>1</td>\n",
              "    </tr>\n",
              "    <tr>\n",
              "      <th>16</th>\n",
              "      <td>0</td>\n",
              "      <td>53</td>\n",
              "      <td>1.031846</td>\n",
              "      <td>8.401047</td>\n",
              "      <td>45.333333</td>\n",
              "      <td>46.875000</td>\n",
              "      <td>0</td>\n",
              "    </tr>\n",
              "    <tr>\n",
              "      <th>17</th>\n",
              "      <td>1</td>\n",
              "      <td>57</td>\n",
              "      <td>1.442374</td>\n",
              "      <td>9.251669</td>\n",
              "      <td>52.000000</td>\n",
              "      <td>46.875000</td>\n",
              "      <td>0</td>\n",
              "    </tr>\n",
              "    <tr>\n",
              "      <th>18</th>\n",
              "      <td>0</td>\n",
              "      <td>45</td>\n",
              "      <td>1.315108</td>\n",
              "      <td>7.701400</td>\n",
              "      <td>50.666667</td>\n",
              "      <td>46.875000</td>\n",
              "      <td>2</td>\n",
              "    </tr>\n",
              "    <tr>\n",
              "      <th>19</th>\n",
              "      <td>1</td>\n",
              "      <td>57</td>\n",
              "      <td>1.114405</td>\n",
              "      <td>7.460653</td>\n",
              "      <td>45.500000</td>\n",
              "      <td>46.875000</td>\n",
              "      <td>1</td>\n",
              "    </tr>\n",
              "    <tr>\n",
              "      <th>20</th>\n",
              "      <td>0</td>\n",
              "      <td>59</td>\n",
              "      <td>1.112587</td>\n",
              "      <td>8.596020</td>\n",
              "      <td>40.000000</td>\n",
              "      <td>44.764706</td>\n",
              "      <td>0</td>\n",
              "    </tr>\n",
              "    <tr>\n",
              "      <th>21</th>\n",
              "      <td>1</td>\n",
              "      <td>62</td>\n",
              "      <td>1.269528</td>\n",
              "      <td>8.465479</td>\n",
              "      <td>50.666667</td>\n",
              "      <td>44.764706</td>\n",
              "      <td>1</td>\n",
              "    </tr>\n",
              "    <tr>\n",
              "      <th>22</th>\n",
              "      <td>0</td>\n",
              "      <td>46</td>\n",
              "      <td>1.075926</td>\n",
              "      <td>6.678696</td>\n",
              "      <td>43.333333</td>\n",
              "      <td>44.764706</td>\n",
              "      <td>1</td>\n",
              "    </tr>\n",
              "    <tr>\n",
              "      <th>23</th>\n",
              "      <td>1</td>\n",
              "      <td>45</td>\n",
              "      <td>1.064348</td>\n",
              "      <td>7.435829</td>\n",
              "      <td>42.333333</td>\n",
              "      <td>44.764706</td>\n",
              "      <td>2</td>\n",
              "    </tr>\n",
              "    <tr>\n",
              "      <th>24</th>\n",
              "      <td>0</td>\n",
              "      <td>55</td>\n",
              "      <td>1.126922</td>\n",
              "      <td>8.591441</td>\n",
              "      <td>45.333333</td>\n",
              "      <td>46.875000</td>\n",
              "      <td>1</td>\n",
              "    </tr>\n",
              "    <tr>\n",
              "      <th>25</th>\n",
              "      <td>1</td>\n",
              "      <td>39</td>\n",
              "      <td>1.269528</td>\n",
              "      <td>7.305241</td>\n",
              "      <td>50.666667</td>\n",
              "      <td>46.875000</td>\n",
              "      <td>1</td>\n",
              "    </tr>\n",
              "    <tr>\n",
              "      <th>26</th>\n",
              "      <td>0</td>\n",
              "      <td>32</td>\n",
              "      <td>1.064641</td>\n",
              "      <td>7.067713</td>\n",
              "      <td>40.000000</td>\n",
              "      <td>46.875000</td>\n",
              "      <td>1</td>\n",
              "    </tr>\n",
              "    <tr>\n",
              "      <th>27</th>\n",
              "      <td>1</td>\n",
              "      <td>50</td>\n",
              "      <td>1.442374</td>\n",
              "      <td>7.062622</td>\n",
              "      <td>52.000000</td>\n",
              "      <td>46.875000</td>\n",
              "      <td>0</td>\n",
              "    </tr>\n",
              "    <tr>\n",
              "      <th>28</th>\n",
              "      <td>0</td>\n",
              "      <td>54</td>\n",
              "      <td>1.155556</td>\n",
              "      <td>7.439279</td>\n",
              "      <td>43.333333</td>\n",
              "      <td>44.764706</td>\n",
              "      <td>0</td>\n",
              "    </tr>\n",
              "    <tr>\n",
              "      <th>29</th>\n",
              "      <td>1</td>\n",
              "      <td>45</td>\n",
              "      <td>1.436832</td>\n",
              "      <td>7.880296</td>\n",
              "      <td>45.500000</td>\n",
              "      <td>44.764706</td>\n",
              "      <td>4</td>\n",
              "    </tr>\n",
              "    <tr>\n",
              "      <th>30</th>\n",
              "      <td>0</td>\n",
              "      <td>32</td>\n",
              "      <td>0.974555</td>\n",
              "      <td>7.589768</td>\n",
              "      <td>42.333333</td>\n",
              "      <td>44.764706</td>\n",
              "      <td>3</td>\n",
              "    </tr>\n",
              "    <tr>\n",
              "      <th>31</th>\n",
              "      <td>1</td>\n",
              "      <td>59</td>\n",
              "      <td>1.326389</td>\n",
              "      <td>7.272446</td>\n",
              "      <td>50.666667</td>\n",
              "      <td>44.764706</td>\n",
              "      <td>0</td>\n",
              "    </tr>\n",
              "    <tr>\n",
              "      <th>32</th>\n",
              "      <td>0</td>\n",
              "      <td>21</td>\n",
              "      <td>0.799008</td>\n",
              "      <td>4.707306</td>\n",
              "      <td>45.333333</td>\n",
              "      <td>46.875000</td>\n",
              "      <td>1</td>\n",
              "    </tr>\n",
              "    <tr>\n",
              "      <th>33</th>\n",
              "      <td>1</td>\n",
              "      <td>45</td>\n",
              "      <td>1.112587</td>\n",
              "      <td>5.930241</td>\n",
              "      <td>40.000000</td>\n",
              "      <td>46.875000</td>\n",
              "      <td>0</td>\n",
              "    </tr>\n",
              "    <tr>\n",
              "      <th>34</th>\n",
              "      <td>0</td>\n",
              "      <td>25</td>\n",
              "      <td>1.100179</td>\n",
              "      <td>6.678696</td>\n",
              "      <td>45.500000</td>\n",
              "      <td>44.764706</td>\n",
              "      <td>0</td>\n",
              "    </tr>\n",
              "    <tr>\n",
              "      <th>35</th>\n",
              "      <td>1</td>\n",
              "      <td>50</td>\n",
              "      <td>1.125377</td>\n",
              "      <td>7.044542</td>\n",
              "      <td>42.333333</td>\n",
              "      <td>44.764706</td>\n",
              "      <td>2</td>\n",
              "    </tr>\n",
              "    <tr>\n",
              "      <th>36</th>\n",
              "      <td>0</td>\n",
              "      <td>51</td>\n",
              "      <td>1.155556</td>\n",
              "      <td>8.486969</td>\n",
              "      <td>43.333333</td>\n",
              "      <td>44.764706</td>\n",
              "      <td>0</td>\n",
              "    </tr>\n",
              "    <tr>\n",
              "      <th>37</th>\n",
              "      <td>1</td>\n",
              "      <td>65</td>\n",
              "      <td>1.274024</td>\n",
              "      <td>8.623886</td>\n",
              "      <td>50.666667</td>\n",
              "      <td>44.764706</td>\n",
              "      <td>2</td>\n",
              "    </tr>\n",
              "    <tr>\n",
              "      <th>38</th>\n",
              "      <td>0</td>\n",
              "      <td>51</td>\n",
              "      <td>1.454293</td>\n",
              "      <td>6.372259</td>\n",
              "      <td>50.666667</td>\n",
              "      <td>46.875000</td>\n",
              "      <td>0</td>\n",
              "    </tr>\n",
              "    <tr>\n",
              "      <th>39</th>\n",
              "      <td>1</td>\n",
              "      <td>56</td>\n",
              "      <td>1.026743</td>\n",
              "      <td>8.225153</td>\n",
              "      <td>52.000000</td>\n",
              "      <td>46.875000</td>\n",
              "      <td>2</td>\n",
              "    </tr>\n",
              "    <tr>\n",
              "      <th>40</th>\n",
              "      <td>0</td>\n",
              "      <td>37</td>\n",
              "      <td>1.112587</td>\n",
              "      <td>6.798129</td>\n",
              "      <td>40.000000</td>\n",
              "      <td>39.500000</td>\n",
              "      <td>0</td>\n",
              "    </tr>\n",
              "    <tr>\n",
              "      <th>41</th>\n",
              "      <td>1</td>\n",
              "      <td>42</td>\n",
              "      <td>1.024199</td>\n",
              "      <td>6.273973</td>\n",
              "      <td>45.500000</td>\n",
              "      <td>39.500000</td>\n",
              "      <td>3</td>\n",
              "    </tr>\n",
              "  </tbody>\n",
              "</table>\n",
              "</div>"
            ],
            "text/plain": [
              "    innings  runs  ...  stadium_average  wickets_fallen\n",
              "0         0    41  ...        46.875000               1\n",
              "1         1    46  ...        46.875000               2\n",
              "2         0    33  ...        44.764706               2\n",
              "3         1    65  ...        44.764706               0\n",
              "4         0    50  ...        46.875000               0\n",
              "5         1    35  ...        46.875000               2\n",
              "6         0    46  ...        44.764706               1\n",
              "7         1    59  ...        44.764706               2\n",
              "8         0    42  ...        46.875000               1\n",
              "9         1    45  ...        46.875000               0\n",
              "10        0    47  ...        46.875000               1\n",
              "11        1    50  ...        46.875000               1\n",
              "12        0    36  ...        44.764706               3\n",
              "13        1    26  ...        44.764706               3\n",
              "14        0    26  ...        44.764706               4\n",
              "15        1    32  ...        44.764706               1\n",
              "16        0    53  ...        46.875000               0\n",
              "17        1    57  ...        46.875000               0\n",
              "18        0    45  ...        46.875000               2\n",
              "19        1    57  ...        46.875000               1\n",
              "20        0    59  ...        44.764706               0\n",
              "21        1    62  ...        44.764706               1\n",
              "22        0    46  ...        44.764706               1\n",
              "23        1    45  ...        44.764706               2\n",
              "24        0    55  ...        46.875000               1\n",
              "25        1    39  ...        46.875000               1\n",
              "26        0    32  ...        46.875000               1\n",
              "27        1    50  ...        46.875000               0\n",
              "28        0    54  ...        44.764706               0\n",
              "29        1    45  ...        44.764706               4\n",
              "30        0    32  ...        44.764706               3\n",
              "31        1    59  ...        44.764706               0\n",
              "32        0    21  ...        46.875000               1\n",
              "33        1    45  ...        46.875000               0\n",
              "34        0    25  ...        44.764706               0\n",
              "35        1    50  ...        44.764706               2\n",
              "36        0    51  ...        44.764706               0\n",
              "37        1    65  ...        44.764706               2\n",
              "38        0    51  ...        46.875000               0\n",
              "39        1    56  ...        46.875000               2\n",
              "40        0    37  ...        39.500000               0\n",
              "41        1    42  ...        39.500000               3\n",
              "\n",
              "[42 rows x 7 columns]"
            ]
          },
          "metadata": {
            "tags": []
          },
          "execution_count": 451
        }
      ]
    },
    {
      "cell_type": "code",
      "metadata": {
        "id": "f7w7mMcGC37N"
      },
      "source": [
        "sixOversDataBatBowl.to_csv('sixOversIpl.csv')"
      ],
      "execution_count": null,
      "outputs": []
    },
    {
      "cell_type": "markdown",
      "metadata": {
        "id": "agqv3Qa6OKfO"
      },
      "source": [
        "#Create Model"
      ]
    },
    {
      "cell_type": "code",
      "metadata": {
        "id": "cch3gl1BO7wu"
      },
      "source": [
        "import numpy as np\n",
        "from sklearn.linear_model import BayesianRidge\n",
        "from sklearn.linear_model import LinearRegression,HuberRegressor,Ridge\n",
        "from sklearn.model_selection import train_test_split"
      ],
      "execution_count": null,
      "outputs": []
    },
    {
      "cell_type": "code",
      "metadata": {
        "id": "yEjybR6bPvrF"
      },
      "source": [
        "X = sixOversDataBatBowl.drop('runs',axis=1)\n",
        "y = sixOversDataBatBowl['runs']\n"
      ],
      "execution_count": null,
      "outputs": []
    },
    {
      "cell_type": "code",
      "metadata": {
        "id": "A6f-RCqdpZs5"
      },
      "source": [
        "# from sklearn.preprocessing import StandardScaler\n",
        "# sc = StandardScaler()\n",
        "# sc.fit(X)\n",
        "# X = sc.transform(X)"
      ],
      "execution_count": null,
      "outputs": []
    },
    {
      "cell_type": "code",
      "metadata": {
        "id": "6Mk2BpFcl4Tk"
      },
      "source": [
        "# theta = np.dot(np.dot(np.linalg.inv(np.dot(np.transpose(X),X)),np.transpose(X)),y) \n"
      ],
      "execution_count": null,
      "outputs": []
    },
    {
      "cell_type": "code",
      "metadata": {
        "id": "gDSC60IUqvhy"
      },
      "source": [
        "# theta"
      ],
      "execution_count": null,
      "outputs": []
    },
    {
      "cell_type": "code",
      "metadata": {
        "id": "iUq1WOJlrIqx"
      },
      "source": [
        "# inputStandard = sc.transform(np.array([[ 1.        ,  1.06464148,  6.79812865, 40.        , 43.5       ,\n",
        "#         39.5       ,  1.        ]]))\n",
        "# inputStandard"
      ],
      "execution_count": null,
      "outputs": []
    },
    {
      "cell_type": "code",
      "metadata": {
        "id": "ZIBDI6Ersu1_"
      },
      "source": [
        "# X_mean = np.mean(X,axis=0)\n",
        "# X_std = np.std(X,axis=0)\n",
        "# X_mean,X_std"
      ],
      "execution_count": null,
      "outputs": []
    },
    {
      "cell_type": "code",
      "metadata": {
        "id": "SLl9752pxbDu"
      },
      "source": [
        "# input = np.array([ 1.        ,  1.06464148,  6.79812865, 40.        , 43.5       ,\n",
        "#         39.5       ,  1.        ])"
      ],
      "execution_count": null,
      "outputs": []
    },
    {
      "cell_type": "code",
      "metadata": {
        "id": "7zzoYqKVvBc3"
      },
      "source": [
        "# inputSS = (input - X_mean)/(X_std)\n",
        "# inputSS"
      ],
      "execution_count": null,
      "outputs": []
    },
    {
      "cell_type": "code",
      "metadata": {
        "id": "2HBUiSXsn8L_"
      },
      "source": [
        "# np.dot(np.transpose(theta.reshape(7,1)), np.array(inputSS).reshape(7,1))"
      ],
      "execution_count": null,
      "outputs": []
    },
    {
      "cell_type": "code",
      "metadata": {
        "id": "fq1g-mAAnqh5"
      },
      "source": [
        "# array([ 2.14954201,  0.95941477,  3.15385137,  0.6286454 ,  0.45900997,\n",
        "#        -0.42459276, -2.83306946]) #non normalized"
      ],
      "execution_count": null,
      "outputs": []
    },
    {
      "cell_type": "code",
      "metadata": {
        "id": "kbpT__HAw7D6"
      },
      "source": [
        "reg2.coef_ #normalized"
      ],
      "execution_count": null,
      "outputs": []
    },
    {
      "cell_type": "code",
      "metadata": {
        "id": "NxS3T2t_xcIo"
      },
      "source": [
        "# array([ 2.3654389 ,  2.27451274,  4.54332856,  1.28540892,  0.96805451,\n",
        "#        -1.17927513, -3.70272905]) #normal equation"
      ],
      "execution_count": null,
      "outputs": []
    },
    {
      "cell_type": "code",
      "metadata": {
        "id": "NdDF8TkoQXU-"
      },
      "source": [
        "# from sklearn.preprocessing import StandardScaler\n",
        "# sc = StandardScaler()\n",
        "# X = sc.fit_transform(X)"
      ],
      "execution_count": null,
      "outputs": []
    },
    {
      "cell_type": "code",
      "metadata": {
        "id": "BTPLRgyrQBTU"
      },
      "source": [
        "X_train, X_test, y_train, y_test = train_test_split(X, y,test_size=0.10, random_state=42)"
      ],
      "execution_count": null,
      "outputs": []
    },
    {
      "cell_type": "code",
      "metadata": {
        "id": "ur3dnKggz3mk"
      },
      "source": [
        "X_train"
      ],
      "execution_count": null,
      "outputs": []
    },
    {
      "cell_type": "code",
      "metadata": {
        "id": "QY7esVe7Ppm6"
      },
      "source": [
        "reg1 = LinearRegression(copy_X=True, fit_intercept=True, n_jobs=-1, normalize=True).fit(X_train, y_train)"
      ],
      "execution_count": null,
      "outputs": []
    },
    {
      "cell_type": "code",
      "metadata": {
        "id": "8yf3DRitOXmu",
        "colab": {
          "base_uri": "https://localhost:8080/"
        },
        "outputId": "8676b742-d802-43b2-9073-a878e5f0a1f5"
      },
      "source": [
        "reg2 = BayesianRidge(alpha_1=1e-06, alpha_2=1e-06, alpha_init=None, compute_score=True,\n",
        "               copy_X=True, fit_intercept=True, lambda_1=0.05, lambda_2=0.001,\n",
        "               lambda_init=None, n_iter=300, normalize=False, tol=0.001,\n",
        "               verbose=True).fit(X_train, y_train)\n",
        "# reg3 = HuberRegressor(alpha=0.0005, epsilon=1.5, fit_intercept=True, max_iter=100,\n",
        "#                 tol=1e-05, warm_start=False).fit(X_train, y_train)\n",
        "# reg4 = Ridge(alpha=0.25, copy_X=True, fit_intercept=True, max_iter=None,\n",
        "#        normalize=True, random_state=6306, solver='auto', tol=0.001).fit(X_train, y_train)"
      ],
      "execution_count": null,
      "outputs": [
        {
          "output_type": "stream",
          "text": [
            "Convergence after  12  iterations\n"
          ],
          "name": "stdout"
        }
      ]
    },
    {
      "cell_type": "code",
      "metadata": {
        "colab": {
          "base_uri": "https://localhost:8080/",
          "height": 297
        },
        "id": "S5uaKpzx1T64",
        "outputId": "9b742faf-0e30-4884-8f8c-9f29a3b72ea8"
      },
      "source": [
        "y_pred = reg2.predict(X_test)\n",
        "sns.regplot(x=y_test,y=y_pred)\n",
        "from sklearn.metrics import mean_squared_error, r2_score\n",
        "\n",
        "mean_squared_error(y_test, y_pred),r2_score(y_test, y_pred)"
      ],
      "execution_count": null,
      "outputs": [
        {
          "output_type": "execute_result",
          "data": {
            "text/plain": [
              "(103.09979297805569, -0.5126143335982352)"
            ]
          },
          "metadata": {
            "tags": []
          },
          "execution_count": 544
        },
        {
          "output_type": "display_data",
          "data": {
            "image/png": "[encoded data removed]",
            "text/plain": [
              "<Figure size 432x288 with 1 Axes>"
            ]
          },
          "metadata": {
            "tags": [],
            "needs_background": "light"
          }
        }
      ]
    },
    {
      "cell_type": "code",
      "metadata": {
        "id": "r9LH-wSk5ciX"
      },
      "source": [
        "sns.scatterplot(X_train[0],X_train[1],y_train)"
      ],
      "execution_count": null,
      "outputs": []
    },
    {
      "cell_type": "code",
      "metadata": {
        "colab": {
          "base_uri": "https://localhost:8080/",
          "height": 1000
        },
        "id": "s4DilqXjBDSO",
        "outputId": "73b646db-5f51-479a-9270-ac805216354f"
      },
      "source": [
        "X_train"
      ],
      "execution_count": null,
      "outputs": [
        {
          "output_type": "execute_result",
          "data": {
            "text/html": [
              "<div>\n",
              "<style scoped>\n",
              "    .dataframe tbody tr th:only-of-type {\n",
              "        vertical-align: middle;\n",
              "    }\n",
              "\n",
              "    .dataframe tbody tr th {\n",
              "        vertical-align: top;\n",
              "    }\n",
              "\n",
              "    .dataframe thead th {\n",
              "        text-align: right;\n",
              "    }\n",
              "</style>\n",
              "<table border=\"1\" class=\"dataframe\">\n",
              "  <thead>\n",
              "    <tr style=\"text-align: right;\">\n",
              "      <th></th>\n",
              "      <th>innings</th>\n",
              "      <th>batsmen_average</th>\n",
              "      <th>bowler_economy</th>\n",
              "      <th>batting_team_average</th>\n",
              "      <th>stadium_average</th>\n",
              "      <th>wickets_fallen</th>\n",
              "    </tr>\n",
              "  </thead>\n",
              "  <tbody>\n",
              "    <tr>\n",
              "      <th>39</th>\n",
              "      <td>1</td>\n",
              "      <td>1.026743</td>\n",
              "      <td>8.225153</td>\n",
              "      <td>52.000000</td>\n",
              "      <td>46.875000</td>\n",
              "      <td>2</td>\n",
              "    </tr>\n",
              "    <tr>\n",
              "      <th>19</th>\n",
              "      <td>1</td>\n",
              "      <td>1.114405</td>\n",
              "      <td>7.460653</td>\n",
              "      <td>45.500000</td>\n",
              "      <td>46.875000</td>\n",
              "      <td>1</td>\n",
              "    </tr>\n",
              "    <tr>\n",
              "      <th>29</th>\n",
              "      <td>1</td>\n",
              "      <td>1.436832</td>\n",
              "      <td>7.880296</td>\n",
              "      <td>45.500000</td>\n",
              "      <td>44.764706</td>\n",
              "      <td>4</td>\n",
              "    </tr>\n",
              "    <tr>\n",
              "      <th>30</th>\n",
              "      <td>0</td>\n",
              "      <td>0.974555</td>\n",
              "      <td>7.589768</td>\n",
              "      <td>42.333333</td>\n",
              "      <td>44.764706</td>\n",
              "      <td>3</td>\n",
              "    </tr>\n",
              "    <tr>\n",
              "      <th>6</th>\n",
              "      <td>0</td>\n",
              "      <td>1.064641</td>\n",
              "      <td>6.696594</td>\n",
              "      <td>40.000000</td>\n",
              "      <td>44.764706</td>\n",
              "      <td>1</td>\n",
              "    </tr>\n",
              "    <tr>\n",
              "      <th>27</th>\n",
              "      <td>1</td>\n",
              "      <td>1.442374</td>\n",
              "      <td>7.062622</td>\n",
              "      <td>52.000000</td>\n",
              "      <td>46.875000</td>\n",
              "      <td>0</td>\n",
              "    </tr>\n",
              "    <tr>\n",
              "      <th>12</th>\n",
              "      <td>0</td>\n",
              "      <td>1.032222</td>\n",
              "      <td>6.747033</td>\n",
              "      <td>50.666667</td>\n",
              "      <td>44.764706</td>\n",
              "      <td>3</td>\n",
              "    </tr>\n",
              "    <tr>\n",
              "      <th>17</th>\n",
              "      <td>1</td>\n",
              "      <td>1.442374</td>\n",
              "      <td>9.251669</td>\n",
              "      <td>52.000000</td>\n",
              "      <td>46.875000</td>\n",
              "      <td>0</td>\n",
              "    </tr>\n",
              "    <tr>\n",
              "      <th>9</th>\n",
              "      <td>1</td>\n",
              "      <td>1.100179</td>\n",
              "      <td>7.627609</td>\n",
              "      <td>45.500000</td>\n",
              "      <td>46.875000</td>\n",
              "      <td>0</td>\n",
              "    </tr>\n",
              "    <tr>\n",
              "      <th>15</th>\n",
              "      <td>1</td>\n",
              "      <td>1.075926</td>\n",
              "      <td>9.215479</td>\n",
              "      <td>43.333333</td>\n",
              "      <td>44.764706</td>\n",
              "      <td>1</td>\n",
              "    </tr>\n",
              "    <tr>\n",
              "      <th>33</th>\n",
              "      <td>1</td>\n",
              "      <td>1.112587</td>\n",
              "      <td>5.930241</td>\n",
              "      <td>40.000000</td>\n",
              "      <td>46.875000</td>\n",
              "      <td>0</td>\n",
              "    </tr>\n",
              "    <tr>\n",
              "      <th>16</th>\n",
              "      <td>0</td>\n",
              "      <td>1.031846</td>\n",
              "      <td>8.401047</td>\n",
              "      <td>45.333333</td>\n",
              "      <td>46.875000</td>\n",
              "      <td>0</td>\n",
              "    </tr>\n",
              "    <tr>\n",
              "      <th>36</th>\n",
              "      <td>0</td>\n",
              "      <td>1.155556</td>\n",
              "      <td>8.486969</td>\n",
              "      <td>43.333333</td>\n",
              "      <td>44.764706</td>\n",
              "      <td>0</td>\n",
              "    </tr>\n",
              "    <tr>\n",
              "      <th>35</th>\n",
              "      <td>1</td>\n",
              "      <td>1.125377</td>\n",
              "      <td>7.044542</td>\n",
              "      <td>42.333333</td>\n",
              "      <td>44.764706</td>\n",
              "      <td>2</td>\n",
              "    </tr>\n",
              "    <tr>\n",
              "      <th>0</th>\n",
              "      <td>0</td>\n",
              "      <td>1.172078</td>\n",
              "      <td>7.315959</td>\n",
              "      <td>45.333333</td>\n",
              "      <td>46.875000</td>\n",
              "      <td>1</td>\n",
              "    </tr>\n",
              "    <tr>\n",
              "      <th>24</th>\n",
              "      <td>0</td>\n",
              "      <td>1.126922</td>\n",
              "      <td>8.591441</td>\n",
              "      <td>45.333333</td>\n",
              "      <td>46.875000</td>\n",
              "      <td>1</td>\n",
              "    </tr>\n",
              "    <tr>\n",
              "      <th>5</th>\n",
              "      <td>1</td>\n",
              "      <td>1.078658</td>\n",
              "      <td>7.255455</td>\n",
              "      <td>52.000000</td>\n",
              "      <td>46.875000</td>\n",
              "      <td>2</td>\n",
              "    </tr>\n",
              "    <tr>\n",
              "      <th>11</th>\n",
              "      <td>1</td>\n",
              "      <td>0.868163</td>\n",
              "      <td>7.364204</td>\n",
              "      <td>52.000000</td>\n",
              "      <td>46.875000</td>\n",
              "      <td>1</td>\n",
              "    </tr>\n",
              "    <tr>\n",
              "      <th>40</th>\n",
              "      <td>0</td>\n",
              "      <td>1.112587</td>\n",
              "      <td>6.798129</td>\n",
              "      <td>40.000000</td>\n",
              "      <td>39.500000</td>\n",
              "      <td>0</td>\n",
              "    </tr>\n",
              "    <tr>\n",
              "      <th>1</th>\n",
              "      <td>1</td>\n",
              "      <td>1.134820</td>\n",
              "      <td>7.627609</td>\n",
              "      <td>50.666667</td>\n",
              "      <td>46.875000</td>\n",
              "      <td>2</td>\n",
              "    </tr>\n",
              "    <tr>\n",
              "      <th>31</th>\n",
              "      <td>1</td>\n",
              "      <td>1.326389</td>\n",
              "      <td>7.272446</td>\n",
              "      <td>50.666667</td>\n",
              "      <td>44.764706</td>\n",
              "      <td>0</td>\n",
              "    </tr>\n",
              "    <tr>\n",
              "      <th>21</th>\n",
              "      <td>1</td>\n",
              "      <td>1.269528</td>\n",
              "      <td>8.465479</td>\n",
              "      <td>50.666667</td>\n",
              "      <td>44.764706</td>\n",
              "      <td>1</td>\n",
              "    </tr>\n",
              "    <tr>\n",
              "      <th>2</th>\n",
              "      <td>0</td>\n",
              "      <td>1.076175</td>\n",
              "      <td>5.655251</td>\n",
              "      <td>43.333333</td>\n",
              "      <td>44.764706</td>\n",
              "      <td>2</td>\n",
              "    </tr>\n",
              "    <tr>\n",
              "      <th>32</th>\n",
              "      <td>0</td>\n",
              "      <td>0.799008</td>\n",
              "      <td>4.707306</td>\n",
              "      <td>45.333333</td>\n",
              "      <td>46.875000</td>\n",
              "      <td>1</td>\n",
              "    </tr>\n",
              "    <tr>\n",
              "      <th>41</th>\n",
              "      <td>1</td>\n",
              "      <td>1.024199</td>\n",
              "      <td>6.273973</td>\n",
              "      <td>45.500000</td>\n",
              "      <td>39.500000</td>\n",
              "      <td>3</td>\n",
              "    </tr>\n",
              "    <tr>\n",
              "      <th>3</th>\n",
              "      <td>1</td>\n",
              "      <td>1.454293</td>\n",
              "      <td>8.623886</td>\n",
              "      <td>50.666667</td>\n",
              "      <td>44.764706</td>\n",
              "      <td>0</td>\n",
              "    </tr>\n",
              "    <tr>\n",
              "      <th>37</th>\n",
              "      <td>1</td>\n",
              "      <td>1.274024</td>\n",
              "      <td>8.623886</td>\n",
              "      <td>50.666667</td>\n",
              "      <td>44.764706</td>\n",
              "      <td>2</td>\n",
              "    </tr>\n",
              "    <tr>\n",
              "      <th>23</th>\n",
              "      <td>1</td>\n",
              "      <td>1.064348</td>\n",
              "      <td>7.435829</td>\n",
              "      <td>42.333333</td>\n",
              "      <td>44.764706</td>\n",
              "      <td>2</td>\n",
              "    </tr>\n",
              "    <tr>\n",
              "      <th>34</th>\n",
              "      <td>0</td>\n",
              "      <td>1.100179</td>\n",
              "      <td>6.678696</td>\n",
              "      <td>45.500000</td>\n",
              "      <td>44.764706</td>\n",
              "      <td>0</td>\n",
              "    </tr>\n",
              "    <tr>\n",
              "      <th>10</th>\n",
              "      <td>0</td>\n",
              "      <td>1.402778</td>\n",
              "      <td>8.666608</td>\n",
              "      <td>50.666667</td>\n",
              "      <td>46.875000</td>\n",
              "      <td>1</td>\n",
              "    </tr>\n",
              "    <tr>\n",
              "      <th>22</th>\n",
              "      <td>0</td>\n",
              "      <td>1.075926</td>\n",
              "      <td>6.678696</td>\n",
              "      <td>43.333333</td>\n",
              "      <td>44.764706</td>\n",
              "      <td>1</td>\n",
              "    </tr>\n",
              "    <tr>\n",
              "      <th>18</th>\n",
              "      <td>0</td>\n",
              "      <td>1.315108</td>\n",
              "      <td>7.701400</td>\n",
              "      <td>50.666667</td>\n",
              "      <td>46.875000</td>\n",
              "      <td>2</td>\n",
              "    </tr>\n",
              "    <tr>\n",
              "      <th>20</th>\n",
              "      <td>0</td>\n",
              "      <td>1.112587</td>\n",
              "      <td>8.596020</td>\n",
              "      <td>40.000000</td>\n",
              "      <td>44.764706</td>\n",
              "      <td>0</td>\n",
              "    </tr>\n",
              "    <tr>\n",
              "      <th>7</th>\n",
              "      <td>1</td>\n",
              "      <td>0.876848</td>\n",
              "      <td>9.215479</td>\n",
              "      <td>42.333333</td>\n",
              "      <td>44.764706</td>\n",
              "      <td>2</td>\n",
              "    </tr>\n",
              "    <tr>\n",
              "      <th>14</th>\n",
              "      <td>0</td>\n",
              "      <td>0.651368</td>\n",
              "      <td>8.623886</td>\n",
              "      <td>40.000000</td>\n",
              "      <td>44.764706</td>\n",
              "      <td>4</td>\n",
              "    </tr>\n",
              "    <tr>\n",
              "      <th>28</th>\n",
              "      <td>0</td>\n",
              "      <td>1.155556</td>\n",
              "      <td>7.439279</td>\n",
              "      <td>43.333333</td>\n",
              "      <td>44.764706</td>\n",
              "      <td>0</td>\n",
              "    </tr>\n",
              "    <tr>\n",
              "      <th>38</th>\n",
              "      <td>0</td>\n",
              "      <td>1.454293</td>\n",
              "      <td>6.372259</td>\n",
              "      <td>50.666667</td>\n",
              "      <td>46.875000</td>\n",
              "      <td>0</td>\n",
              "    </tr>\n",
              "  </tbody>\n",
              "</table>\n",
              "</div>"
            ],
            "text/plain": [
              "    innings  batsmen_average  ...  stadium_average  wickets_fallen\n",
              "39        1         1.026743  ...        46.875000               2\n",
              "19        1         1.114405  ...        46.875000               1\n",
              "29        1         1.436832  ...        44.764706               4\n",
              "30        0         0.974555  ...        44.764706               3\n",
              "6         0         1.064641  ...        44.764706               1\n",
              "27        1         1.442374  ...        46.875000               0\n",
              "12        0         1.032222  ...        44.764706               3\n",
              "17        1         1.442374  ...        46.875000               0\n",
              "9         1         1.100179  ...        46.875000               0\n",
              "15        1         1.075926  ...        44.764706               1\n",
              "33        1         1.112587  ...        46.875000               0\n",
              "16        0         1.031846  ...        46.875000               0\n",
              "36        0         1.155556  ...        44.764706               0\n",
              "35        1         1.125377  ...        44.764706               2\n",
              "0         0         1.172078  ...        46.875000               1\n",
              "24        0         1.126922  ...        46.875000               1\n",
              "5         1         1.078658  ...        46.875000               2\n",
              "11        1         0.868163  ...        46.875000               1\n",
              "40        0         1.112587  ...        39.500000               0\n",
              "1         1         1.134820  ...        46.875000               2\n",
              "31        1         1.326389  ...        44.764706               0\n",
              "21        1         1.269528  ...        44.764706               1\n",
              "2         0         1.076175  ...        44.764706               2\n",
              "32        0         0.799008  ...        46.875000               1\n",
              "41        1         1.024199  ...        39.500000               3\n",
              "3         1         1.454293  ...        44.764706               0\n",
              "37        1         1.274024  ...        44.764706               2\n",
              "23        1         1.064348  ...        44.764706               2\n",
              "34        0         1.100179  ...        44.764706               0\n",
              "10        0         1.402778  ...        46.875000               1\n",
              "22        0         1.075926  ...        44.764706               1\n",
              "18        0         1.315108  ...        46.875000               2\n",
              "20        0         1.112587  ...        44.764706               0\n",
              "7         1         0.876848  ...        44.764706               2\n",
              "14        0         0.651368  ...        44.764706               4\n",
              "28        0         1.155556  ...        44.764706               0\n",
              "38        0         1.454293  ...        46.875000               0\n",
              "\n",
              "[37 rows x 6 columns]"
            ]
          },
          "metadata": {
            "tags": []
          },
          "execution_count": 552
        }
      ]
    },
    {
      "cell_type": "code",
      "metadata": {
        "id": "KdQSUzlX6KkN"
      },
      "source": [
        "import plotly.express as px\n",
        "df = X_train\n",
        "fig = px.scatter_3d(x=X_train['batsmen_average'] ,y=X_train['bowler_economy'], z=X_train['wickets_fallen'],color=y_train)\n",
        "fig.show()"
      ],
      "execution_count": null,
      "outputs": []
    },
    {
      "cell_type": "code",
      "metadata": {
        "id": "vvz_Uq3HQFO9"
      },
      "source": [
        "# from sklearn.model_selection import GridSearchCV\n",
        "# from sklearn.linear_model import Ridge\n",
        "\n",
        "# # prepare a range of alpha values to test\n",
        "# alphas = np.array([1,0.1,0.01,0.001,0.0001])\n",
        "# params = {'alpha_1':[0.00001,0.0000001,0.01,0.001,0.0001],\n",
        "#           'alpha_2':[0.00001,0.00000001,0.01,0.001,0.0001],\n",
        "#           'lambda_1':[0.05,0.01,0.02,0.03,0.04],\n",
        "#           'lambda_2':[0.1,0.001,0.002,0.003,0.004],\n",
        "#           'tol':[0.004,0.001,0.002,0.003]}\n",
        "\n",
        "\n",
        "# # create and fit a ridge regression model, testing each alpha\n",
        "# model = BayesianRidge()\n",
        "# grid = GridSearchCV(estimator=model, param_grid=params,verbose=True,n_jobs=-1,cv=10)\n",
        "# grid.fit(X_train,y_train)\n",
        "# grid"
      ],
      "execution_count": null,
      "outputs": []
    },
    {
      "cell_type": "code",
      "metadata": {
        "id": "s0zULp0VPkFD"
      },
      "source": [
        "# y_pred = pipe.predict(X_test)\n",
        "# y_pred"
      ],
      "execution_count": null,
      "outputs": []
    },
    {
      "cell_type": "code",
      "metadata": {
        "id": "mhgAUPtReVJ9"
      },
      "source": [
        "# from sklearn.svm import SVR\n",
        "# reg_svr = SVR(kernel = 'poly',degree=3)\n",
        "# reg_svr.fit(X_train,y_train)"
      ],
      "execution_count": null,
      "outputs": []
    },
    {
      "cell_type": "code",
      "metadata": {
        "colab": {
          "base_uri": "https://localhost:8080/"
        },
        "id": "H9qNqNETfz86",
        "outputId": "3fd0f1b4-5d04-48d9-8ff9-4d0cf92a6fcc"
      },
      "source": [
        "from sklearn.decomposition import PCA\n",
        "p = PCA(n_components=3)\n",
        "p.fit(X)\n",
        "p.explained_variance_ratio_.sum()\n"
      ],
      "execution_count": null,
      "outputs": [
        {
          "output_type": "execute_result",
          "data": {
            "text/plain": [
              "0.9469432322796038"
            ]
          },
          "metadata": {
            "tags": []
          },
          "execution_count": 539
        }
      ]
    },
    {
      "cell_type": "code",
      "metadata": {
        "id": "n-Yiz2ku3MjV"
      },
      "source": [
        "principalComponents = p.fit_transform(X)\n",
        "principalDf = pd.DataFrame(data = principalComponents\n",
        "             )\n",
        "principalDf"
      ],
      "execution_count": null,
      "outputs": []
    },
    {
      "cell_type": "code",
      "metadata": {
        "id": "yxBe3XBl2WfD"
      },
      "source": [
        "X = principalDf"
      ],
      "execution_count": null,
      "outputs": []
    },
    {
      "cell_type": "markdown",
      "metadata": {
        "id": "DAUG-WtRXRd0"
      },
      "source": [
        "#Input Pipeline\n",
        "\n"
      ]
    },
    {
      "cell_type": "code",
      "metadata": {
        "id": "FjEf5lMNsqoF"
      },
      "source": [
        "from sklearn.preprocessing import Normalizer\n",
        "sc = StandardScaler()\n"
      ],
      "execution_count": null,
      "outputs": []
    },
    {
      "cell_type": "code",
      "metadata": {
        "colab": {
          "base_uri": "https://localhost:8080/",
          "height": 110
        },
        "id": "FsGiSbl8daCc",
        "outputId": "4284107b-b360-4015-b9f4-2dfd0308f7db"
      },
      "source": [
        "bowlerAverage[bowlerAverage['bowler'].str.contains(\"hman\")]"
      ],
      "execution_count": null,
      "outputs": [
        {
          "output_type": "execute_result",
          "data": {
            "text/html": [
              "<div>\n",
              "<style scoped>\n",
              "    .dataframe tbody tr th:only-of-type {\n",
              "        vertical-align: middle;\n",
              "    }\n",
              "\n",
              "    .dataframe tbody tr th {\n",
              "        vertical-align: top;\n",
              "    }\n",
              "\n",
              "    .dataframe thead th {\n",
              "        text-align: right;\n",
              "    }\n",
              "</style>\n",
              "<table border=\"1\" class=\"dataframe\">\n",
              "  <thead>\n",
              "    <tr style=\"text-align: right;\">\n",
              "      <th></th>\n",
              "      <th>bowler</th>\n",
              "      <th>economy</th>\n",
              "    </tr>\n",
              "  </thead>\n",
              "  <tbody>\n",
              "    <tr>\n",
              "      <th>36</th>\n",
              "      <td>Mujeeb Ur Rahman</td>\n",
              "      <td>13.000000</td>\n",
              "    </tr>\n",
              "    <tr>\n",
              "      <th>37</th>\n",
              "      <td>Mustafizur Rahman</td>\n",
              "      <td>6.473684</td>\n",
              "    </tr>\n",
              "  </tbody>\n",
              "</table>\n",
              "</div>"
            ],
            "text/plain": [
              "               bowler    economy\n",
              "36   Mujeeb Ur Rahman  13.000000\n",
              "37  Mustafizur Rahman   6.473684"
            ]
          },
          "metadata": {
            "tags": []
          },
          "execution_count": 476
        }
      ]
    },
    {
      "cell_type": "code",
      "metadata": {
        "id": "hawcPOP3miEt"
      },
      "source": [
        "ipl = np.array(['Wankhede Stadium',0,'Chennai Super Kings','Kolkata Knight Riders','F du Plessis,RD Gaikwad','CV Varun,SP Narine,M Prasidh Krishna'])"
      ],
      "execution_count": null,
      "outputs": []
    },
    {
      "cell_type": "code",
      "metadata": {
        "id": "ycqObWscxgWD"
      },
      "source": [
        "ipl = np.array(['Wankhede Stadium',1,'Kolkata Knight Riders','Chennai Super Kings','N Rana,SP Narine,Shubman Gill,KD Karthik,EJG Morgan,RA Tripathi,ar','DL Chahar,SM Curran,L Ngidi'])"
      ],
      "execution_count": null,
      "outputs": []
    },
    {
      "cell_type": "code",
      "metadata": {
        "id": "AEukwgAVd0Vq"
      },
      "source": [
        "ipl = np.array(['Wankhede Stadium',0,'Rajasthan Royals','Royal Challengers Bangalore','JC Buttler,M Vohra,DA Miller,SV Samson,S Dube','Mohammed Siraj,KA Jamieson,KW Richardson'])"
      ],
      "execution_count": null,
      "outputs": []
    },
    {
      "cell_type": "code",
      "metadata": {
        "id": "srDIhTHRgGfm"
      },
      "source": [
        "ipl = np.array(['MA Chidambaram Stadium',2,'Sunrisers Hyderabad','Delhi Capitals','DA Warner,JM Bairstow,KS Williamson','K Rabada,R Ashwin,MP Stoinis,AR Patel,Avesh Khan'])"
      ],
      "execution_count": null,
      "outputs": []
    },
    {
      "cell_type": "code",
      "metadata": {
        "id": "To38vVrOAkUQ"
      },
      "source": [
        "ipl = np.array(['MA Chidambaram Stadium',1,'Delhi Capitals','Sunrisers Hyderabad','PP Shaw,S Dhawan','Abhishek Sharma,KK Ahmed,S Kaul,J Suchith'])"
      ],
      "execution_count": null,
      "outputs": []
    },
    {
      "cell_type": "code",
      "metadata": {
        "id": "2KRjBo7yzv2I",
        "colab": {
          "base_uri": "https://localhost:8080/"
        },
        "outputId": "e5d27046-100a-4c5c-d6fe-771f57439c70"
      },
      "source": [
        "avg = getAllBatsmenAverage('JC Buttler,M Vohra,DA Miller,SV Samson')*4\n",
        "avg = (avg + 1.4)/5\n",
        "avg"
      ],
      "execution_count": null,
      "outputs": [
        {
          "output_type": "execute_result",
          "data": {
            "text/plain": [
              "1.1045551839464884"
            ]
          },
          "metadata": {
            "tags": []
          },
          "execution_count": 482
        }
      ]
    },
    {
      "cell_type": "code",
      "metadata": {
        "id": "B3rEvs56ogfm"
      },
      "source": [
        "def inputTransformer(iplInput):\n",
        "  stadium_average = getStadiumAverage(iplInput[0])\n",
        "  batsmen_average = getAllBatsmenAverage(iplInput[4])\n",
        "  bowler_economy = getAllBowlersAverage(iplInput[5])\n",
        "  batting_team_average = getBattingTeamAverage(iplInput[2])\n",
        "  bowling_team_average = getBowlingTeamAverage(iplInput[3])\n",
        "  wickets = len(iplInput[4].split(',')) - 2\n",
        "  X = np.array([int(iplInput[1]),batsmen_average,bowler_economy,batting_team_average,bowling_team_average,stadium_average,wickets])\n",
        "  # X = sc.fit_transform(X.reshape(1,-1))\n",
        "  X = X.reshape(1,-1)\n",
        "  return X"
      ],
      "execution_count": null,
      "outputs": []
    },
    {
      "cell_type": "code",
      "metadata": {
        "id": "wKqSip0ysQxQ",
        "colab": {
          "base_uri": "https://localhost:8080/"
        },
        "outputId": "d17dfe65-df91-4c55-ea22-86473ffb6f60"
      },
      "source": [
        "\n",
        "X = inputTransformer(ipl)\n",
        "X"
      ],
      "execution_count": null,
      "outputs": [
        {
          "output_type": "execute_result",
          "data": {
            "text/plain": [
              "array([[ 1.        ,  1.45429253,  6.37225877, 50.66666667, 49.33333333,\n",
              "        46.875     ,  0.        ]])"
            ]
          },
          "metadata": {
            "tags": []
          },
          "execution_count": 484
        }
      ]
    },
    {
      "cell_type": "code",
      "metadata": {
        "colab": {
          "base_uri": "https://localhost:8080/"
        },
        "id": "8qcWbCxYmco3",
        "outputId": "2356d212-0b41-4198-e3a6-579e0979659a"
      },
      "source": [
        "import joblib\n",
        "  \n",
        "# Save the model as a pickle in a file\n",
        "joblib.dump(reg2, 'ipl_model_br_new.pkl')\n",
        "  \n",
        "# Load the model from the file\n",
        "pklmodel = joblib.load('ipl_model_br_new.pkl') \n",
        "  \n",
        "pklmodel\n"
      ],
      "execution_count": null,
      "outputs": [
        {
          "output_type": "execute_result",
          "data": {
            "text/plain": [
              "BayesianRidge(alpha_1=1e-06, alpha_2=1e-06, alpha_init=None, compute_score=True,\n",
              "              copy_X=True, fit_intercept=True, lambda_1=0.05, lambda_2=0.001,\n",
              "              lambda_init=None, n_iter=300, normalize=False, tol=0.001,\n",
              "              verbose=True)"
            ]
          },
          "metadata": {
            "tags": []
          },
          "execution_count": 485
        }
      ]
    },
    {
      "cell_type": "code",
      "metadata": {
        "id": "w7Glx24Xs6IK"
      },
      "source": [
        "y_pred = reg2.predict(X)\n",
        "y_pred"
      ],
      "execution_count": null,
      "outputs": []
    }
  ]
}